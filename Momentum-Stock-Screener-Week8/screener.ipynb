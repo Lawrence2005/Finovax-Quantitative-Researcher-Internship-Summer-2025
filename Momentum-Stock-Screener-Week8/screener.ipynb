{
 "cells": [
  {
   "cell_type": "markdown",
   "id": "e3987123",
   "metadata": {},
   "source": [
    "## 🚀 Momentum Stock Screener Framework"
   ]
  },
  {
   "cell_type": "markdown",
   "id": "4c767099",
   "metadata": {},
   "source": [
    "### 📥 Setups"
   ]
  },
  {
   "cell_type": "markdown",
   "id": "96dae416",
   "metadata": {},
   "source": [
    "Installation and import of required packages"
   ]
  },
  {
   "cell_type": "code",
   "execution_count": 61,
   "id": "50164fb0",
   "metadata": {},
   "outputs": [],
   "source": [
    "# !pip install -r requirements.txt"
   ]
  },
  {
   "cell_type": "code",
   "execution_count": 62,
   "id": "066e1020",
   "metadata": {},
   "outputs": [],
   "source": [
    "import yfinance as yf\n",
    "\n",
    "import pandas as pd\n",
    "import numpy as np\n",
    "\n",
    "import os\n",
    "\n",
    "# import plotly.graph_objects as go\n",
    "# from plotly.subplots import make_subplots"
   ]
  },
  {
   "cell_type": "markdown",
   "id": "d739aefc",
   "metadata": {},
   "source": [
    "Initialization of analysis parameters"
   ]
  },
  {
   "cell_type": "code",
   "execution_count": 63,
   "id": "bcd9f6ed",
   "metadata": {},
   "outputs": [],
   "source": [
    "TICKER: str = 'Nasdaq-100'\n",
    "TABLE_NUM: int = 4  # For webscraping data\n",
    "TABLE_COL: str = 'Ticker' # For webscraping data\n",
    "\n",
    "START_DATE: str = '2019-01-01'\n",
    "END_DATE: str = '2025-08-08'"
   ]
  },
  {
   "cell_type": "markdown",
   "id": "41f2e1aa",
   "metadata": {},
   "source": [
    "### 🏗️ Data Acquisition"
   ]
  },
  {
   "cell_type": "code",
   "execution_count": 66,
   "id": "7cb6747f",
   "metadata": {},
   "outputs": [],
   "source": [
    "def fetch_stock_data(index: str=TICKER, table_num: int=TABLE_NUM, table_col: str=TABLE_COL, start_date: str=START_DATE, end_date: str=END_DATE) -> pd.DataFrame:\n",
    "    \"\"\"\n",
    "    Fetch historical stock data for all tickers in the index, both saved as .csv and returned as a dictionary of DataFrames.\n",
    "\n",
    "    Parameters:\n",
    "        index (str): Wikipedia page name for the index (Default to TICKER).\n",
    "        table_num (int): Wikipedia table number for the index (Default to TABLE_NUM).\n",
    "        table_col (str): Wikipedia table column for the index (Default to TABLE_COL).\n",
    "        start_date (str): Start date in 'YYYY-MM-DD' format (Default to START_DATE).\n",
    "        end_date (str): End date in 'YYYY-MM-DD' format (Default to END_DATE).\n",
    "\n",
    "    Returns:\n",
    "        pd.DataFrame: OHLCV data for all tickers in the index.\n",
    "    \"\"\"\n",
    "    url = f\"https://en.wikipedia.org/wiki/{index}\"\n",
    "\n",
    "    try:\n",
    "        ttable = pd.read_html(url)\n",
    "    except Exception as e:\n",
    "        raise ConnectionError(f\"Failed to fetch tables from {url}: {e}\")\n",
    "\n",
    "    if table_num >= len(ttable) or table_col not in ttable[table_num].columns:\n",
    "        raise ValueError(f\"No table with recognizable ticker column found in {url}.\")\n",
    "    \n",
    "    tickers = ttable[table_num][table_col].tolist()\n",
    "\n",
    "    os.makedirs(\"data\", exist_ok=True)\n",
    "    data_dict = {}\n",
    "    \n",
    "    try:\n",
    "        data = yf.download(tickers, start=start_date, end=end_date, auto_adjust=True)\n",
    "    except Exception as e:\n",
    "        print(f\"Error downloading\")\n",
    "    \n",
    "    for ticker in tickers:\n",
    "        df = data.xs(ticker, axis=1, level=1)\n",
    "        df.columns = ['Close', 'High', 'Low', 'Open', 'Volume']\n",
    "\n",
    "        if df.empty:\n",
    "            print(f\"Warning: No data for {ticker}\")\n",
    "        else:\n",
    "            data_dict[ticker] = df\n",
    "\n",
    "            file_path = os.path.join(\"data\", f\"{ticker}.csv\")\n",
    "            df.to_csv(file_path)\n",
    "\n",
    "    return data_dict"
   ]
  },
  {
   "cell_type": "markdown",
   "id": "62ef4850",
   "metadata": {},
   "source": [
    "### 📊 Stock Analysis"
   ]
  },
  {
   "cell_type": "code",
   "execution_count": null,
   "id": "d09b128a",
   "metadata": {},
   "outputs": [],
   "source": [
    "def calculate_indicators():\n",
    "    return"
   ]
  }
 ],
 "metadata": {
  "kernelspec": {
   "display_name": "venv",
   "language": "python",
   "name": "python3"
  },
  "language_info": {
   "codemirror_mode": {
    "name": "ipython",
    "version": 3
   },
   "file_extension": ".py",
   "mimetype": "text/x-python",
   "name": "python",
   "nbconvert_exporter": "python",
   "pygments_lexer": "ipython3",
   "version": "3.12.3"
  }
 },
 "nbformat": 4,
 "nbformat_minor": 5
}
