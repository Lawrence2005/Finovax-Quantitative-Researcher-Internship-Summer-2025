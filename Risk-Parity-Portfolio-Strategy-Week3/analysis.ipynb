{
 "cells": [
  {
   "cell_type": "markdown",
   "id": "0814fe56",
   "metadata": {},
   "source": [
    "## 💼 \"All-Weather\" Risk-Parity Portfolio Construction"
   ]
  },
  {
   "cell_type": "markdown",
   "id": "89cbec34",
   "metadata": {},
   "source": [
    "Setup"
   ]
  },
  {
   "cell_type": "code",
   "execution_count": null,
   "id": "19ca9e8c",
   "metadata": {},
   "outputs": [],
   "source": [
    "import yfinance as yf\n",
    "import pandas as pd\n",
    "import numpy as np\n",
    "import plotly.graph_objects as go"
   ]
  },
  {
   "cell_type": "markdown",
   "id": "47df5c88",
   "metadata": {},
   "source": []
  },
  {
   "cell_type": "code",
   "execution_count": null,
   "id": "584b557b",
   "metadata": {},
   "outputs": [],
   "source": [
    "tickers = ['SPY', 'TLT', 'GLD', 'TIP', 'BIL']  # Equities, Fixed Income, Commodities, Inflation-protected, Cash\n",
    "start_date = '2013-01-01'\n",
    "end_date = '2025-01-01'\n",
    "vol_lookback = 126  # Volatility Lookback Period Length"
   ]
  },
  {
   "cell_type": "markdown",
   "id": "fc8ed565",
   "metadata": {},
   "source": []
  },
  {
   "cell_type": "code",
   "execution_count": null,
   "id": "f477f41a",
   "metadata": {},
   "outputs": [],
   "source": []
  }
 ],
 "metadata": {
  "kernelspec": {
   "display_name": "venv",
   "language": "python",
   "name": "python3"
  },
  "language_info": {
   "codemirror_mode": {
    "name": "ipython",
    "version": 3
   },
   "file_extension": ".py",
   "mimetype": "text/x-python",
   "name": "python",
   "nbconvert_exporter": "python",
   "pygments_lexer": "ipython3",
   "version": "3.12.3"
  }
 },
 "nbformat": 4,
 "nbformat_minor": 5
}
