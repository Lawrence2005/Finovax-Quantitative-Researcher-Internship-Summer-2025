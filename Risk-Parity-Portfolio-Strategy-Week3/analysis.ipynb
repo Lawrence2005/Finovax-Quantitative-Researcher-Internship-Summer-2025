{
 "cells": [
  {
   "cell_type": "markdown",
   "id": "0814fe56",
   "metadata": {},
   "source": [
    "## 💼 \"All-Weather\" Risk-Parity Portfolio Construction"
   ]
  },
  {
   "cell_type": "markdown",
   "id": "74315026",
   "metadata": {},
   "source": [
    "### ETF Selection and Data Download"
   ]
  },
  {
   "cell_type": "markdown",
   "id": "89cbec34",
   "metadata": {},
   "source": [
    "Importing required packages"
   ]
  },
  {
   "cell_type": "code",
   "execution_count": 49,
   "id": "19ca9e8c",
   "metadata": {},
   "outputs": [],
   "source": [
    "import yfinance as yf\n",
    "import pandas as pd\n",
    "import numpy as np\n",
    "import plotly.graph_objects as go"
   ]
  },
  {
   "cell_type": "markdown",
   "id": "47df5c88",
   "metadata": {},
   "source": [
    "Initialization of portfolio parameters"
   ]
  },
  {
   "cell_type": "code",
   "execution_count": 48,
   "id": "584b557b",
   "metadata": {},
   "outputs": [],
   "source": [
    "TICKERS = ['SPY', 'TLT', 'GLD', 'TIP', 'BIL']  # Equities, Fixed Income, Commodities, Inflation-protected, Cash\n",
    "START_DATE = '2015-01-01'\n",
    "END_DATE = '2025-06-27'\n",
    "VOL_LOOKBACK = 126  # Volatility Lookback Period Length"
   ]
  },
  {
   "cell_type": "markdown",
   "id": "fc8ed565",
   "metadata": {},
   "source": [
    "Function for fetching daily price data"
   ]
  },
  {
   "cell_type": "code",
   "execution_count": 45,
   "id": "f477f41a",
   "metadata": {},
   "outputs": [],
   "source": [
    "def get_etf_data(tickers: list[str], start: str, end: str):\n",
    "    \"\"\"\n",
    "    Fetches financial data from Yahoo Finance API for given tickers and date range.\n",
    "    \n",
    "    Parameters:\n",
    "        tickers (list[str]): U.S. equity ticker symbols\n",
    "        start_date (str): Start date in 'YYYY-MM-DD' format\n",
    "        end_date (str): End date in 'YYYY-MM-DD' format\n",
    "\n",
    "    Returns:\n",
    "        pd.DataFrame: DataFrame with date-indexed closing price data\n",
    "    \"\"\"\n",
    "    \n",
    "    data = yf.download(tickers, start, end, auto_adjust=True)['Close']\n",
    "    return data.dropna()"
   ]
  },
  {
   "cell_type": "markdown",
   "id": "99ee3960",
   "metadata": {},
   "source": [
    "### Volatility and Weight Calculation\n",
    "Functions for calculating rolling volatility and daily risk-parity weights"
   ]
  },
  {
   "cell_type": "code",
   "execution_count": 46,
   "id": "b1a0cdd4",
   "metadata": {},
   "outputs": [],
   "source": [
    "def calculate_rolling_volatility(tickers: list[str], start: str, end: str, window: int):\n",
    "    \"\"\"\n",
    "    Calculates rolling 126-day volatility for given tickers and date range.\n",
    "    \n",
    "    Parameters:\n",
    "        tickers (list[str]): U.S. equity ticker symbols\n",
    "        start_date (str): Start date in 'YYYY-MM-DD' format\n",
    "        end_date (str): End date in 'YYYY-MM-DD' format\n",
    "        window (int): Length of lookback period in number of days\n",
    "\n",
    "    Returns:\n",
    "        pd.DataFrame: DataFrame with date-indexed rolling 126-day volatility\n",
    "    \"\"\"\n",
    "\n",
    "    # Fetch price data\n",
    "    data = get_etf_data(tickers, start, end)\n",
    "\n",
    "    # Compute daily return\n",
    "    returns = data.pct_change()\n",
    "\n",
    "    # Compute rolling volatility\n",
    "    rolling_vol = returns.rolling(window=window).std()\n",
    "\n",
    "    return rolling_vol"
   ]
  },
  {
   "cell_type": "code",
   "execution_count": 47,
   "id": "e8c4bf63",
   "metadata": {},
   "outputs": [],
   "source": [
    "def calculate_risk_parity_weights(tickers: list[str] = TICKERS, start: str = START_DATE, end: str = END_DATE, window: int = VOL_LOOKBACK):\n",
    "    \"\"\"\n",
    "    Calculates daily risk-parity weights for given tickers and date range.\n",
    "    \n",
    "    Parameters:\n",
    "        tickers (list[str]): U.S. equity ticker symbols\n",
    "        start_date (str): Start date in 'YYYY-MM-DD' format\n",
    "        end_date (str): End date in 'YYYY-MM-DD' format\n",
    "        window (int): Length of lookback period in number of days\n",
    "\n",
    "    Returns:\n",
    "        pd.DataFrame: DataFrame with date-indexed risk-parity weights\n",
    "    \"\"\"\n",
    "\n",
    "    # Fetch rolling volatility\n",
    "    vol = calculate_rolling_volatility(tickers, start, end, window)\n",
    "\n",
    "    # Invert volatility\n",
    "    inv_vol = 1 / vol\n",
    "\n",
    "    # Normalize rows so weights sum to 1\n",
    "    weights = inv_vol.div(inv_vol.sum(axis=1), axis=0)\n",
    "\n",
    "    return weights.dropna()"
   ]
  },
  {
   "cell_type": "markdown",
   "id": "535fffbf",
   "metadata": {},
   "source": [
    "### Backtesting"
   ]
  },
  {
   "cell_type": "code",
   "execution_count": null,
   "id": "ea16539d",
   "metadata": {},
   "outputs": [],
   "source": [
    "# def backtest_portfolio(weights, returns)\n",
    "\n",
    "# def stress_test_period(portfolio_returns, start, end)\n",
    "\n",
    "# def compute_var_cvar(returns, alpha=0.05)"
   ]
  },
  {
   "cell_type": "markdown",
   "id": "5430a12f",
   "metadata": {},
   "source": [
    "### Performance Metrics and Plots"
   ]
  }
 ],
 "metadata": {
  "kernelspec": {
   "display_name": "venv",
   "language": "python",
   "name": "python3"
  },
  "language_info": {
   "codemirror_mode": {
    "name": "ipython",
    "version": 3
   },
   "file_extension": ".py",
   "mimetype": "text/x-python",
   "name": "python",
   "nbconvert_exporter": "python",
   "pygments_lexer": "ipython3",
   "version": "3.12.3"
  }
 },
 "nbformat": 4,
 "nbformat_minor": 5
}
