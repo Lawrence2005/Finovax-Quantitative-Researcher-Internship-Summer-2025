{
 "cells": [
  {
   "cell_type": "markdown",
   "id": "b4d1771f",
   "metadata": {},
   "source": [
    "## 🔍 Market Regime Detection\n",
    "The various decisions and actions for profit-seeking in financial markets is driven largely by how those markets behave. When asset prices have steadily been in an upward trend for the past several months, for example, many would stay invested or even use leverage to capture more gains. On the other hand, when priecs rise along with higher interest rate, as in a couple years ago, perhaps it’s safer to opt for commodity-related investments.\\\n",
    "These distinct patterns of market behavior are known as market regimes, and they often shift because of changing government policy or broader macroeconomic conditions. Consequently, the effectiveness of different investments can also change, with impacts on returns, volatility, and how prices move over time. \\\n",
    "For this reason, it is vital to detect market regime shifts so that traders and investors can stay informed to make the best choice of quantitative strategy and portfolio allocation to better align with current environment and maximize returns.\\\n",
    "Below are some popular techniques and their applications."
   ]
  },
  {
   "cell_type": "code",
   "execution_count": 1,
   "id": "e2edb43b",
   "metadata": {},
   "outputs": [],
   "source": [
    "# Import financial data fetching function from first project\n",
    "import sys\n",
    "import os\n",
    "\n",
    "# Use current working directory as base (Jupyter-safe)\n",
    "project1_path = os.path.abspath(os.path.join(os.getcwd(), '..', 'Financial-Data-API-Research-Week1'))\n",
    "sys.path.append(project1_path)\n",
    "\n",
    "# Import the function\n",
    "from main import fetch_daily_data"
   ]
  },
  {
   "cell_type": "markdown",
   "id": "bb92a961",
   "metadata": {},
   "source": [
    "## 📏 Rule-based Method\n",
    "Rule-based methods rely on explicit thresholds derived from indicators like volatility, momentum, or moving averages. These methods are simple, transparent, and effective for making real-time risk management decisions, such as adjusting position sizes or stop-loss distances.\\\n",
    "One classic practice is that traders maintain an exposure/position and stop-loss tightness that inversely correlates with volatility."
   ]
  },
  {
   "cell_type": "code",
   "execution_count": 27,
   "id": "dcaf49a0",
   "metadata": {},
   "outputs": [],
   "source": [
    "# Import and Setup\n",
    "import pandas as pd\n",
    "import numpy as np"
   ]
  },
  {
   "cell_type": "code",
   "execution_count": 20,
   "id": "2105a0fb",
   "metadata": {},
   "outputs": [
    {
     "data": {
      "text/html": [
       "<div>\n",
       "<style scoped>\n",
       "    .dataframe tbody tr th:only-of-type {\n",
       "        vertical-align: middle;\n",
       "    }\n",
       "\n",
       "    .dataframe tbody tr th {\n",
       "        vertical-align: top;\n",
       "    }\n",
       "\n",
       "    .dataframe thead th {\n",
       "        text-align: right;\n",
       "    }\n",
       "</style>\n",
       "<table border=\"1\" class=\"dataframe\">\n",
       "  <thead>\n",
       "    <tr style=\"text-align: right;\">\n",
       "      <th></th>\n",
       "      <th>open</th>\n",
       "      <th>high</th>\n",
       "      <th>low</th>\n",
       "      <th>close</th>\n",
       "      <th>volume</th>\n",
       "      <th>adjClose</th>\n",
       "      <th>logReturn</th>\n",
       "      <th>volatility</th>\n",
       "      <th>riskRegime</th>\n",
       "      <th>posSize (%)</th>\n",
       "      <th>stopLoss (%)</th>\n",
       "    </tr>\n",
       "  </thead>\n",
       "  <tbody>\n",
       "    <tr>\n",
       "      <th>2025-06-27</th>\n",
       "      <td>201.890</td>\n",
       "      <td>203.22</td>\n",
       "      <td>200.0000</td>\n",
       "      <td>201.08</td>\n",
       "      <td>73188571</td>\n",
       "      <td>201.08</td>\n",
       "      <td>0.000398</td>\n",
       "      <td>0.010631</td>\n",
       "      <td>Low</td>\n",
       "      <td>1.0</td>\n",
       "      <td>0.010631</td>\n",
       "    </tr>\n",
       "    <tr>\n",
       "      <th>2025-06-26</th>\n",
       "      <td>201.430</td>\n",
       "      <td>202.64</td>\n",
       "      <td>199.4600</td>\n",
       "      <td>201.00</td>\n",
       "      <td>50799121</td>\n",
       "      <td>201.00</td>\n",
       "      <td>-0.002782</td>\n",
       "      <td>0.010647</td>\n",
       "      <td>Low</td>\n",
       "      <td>1.0</td>\n",
       "      <td>0.010647</td>\n",
       "    </tr>\n",
       "    <tr>\n",
       "      <th>2025-06-25</th>\n",
       "      <td>201.450</td>\n",
       "      <td>203.67</td>\n",
       "      <td>200.6201</td>\n",
       "      <td>201.56</td>\n",
       "      <td>39525730</td>\n",
       "      <td>201.56</td>\n",
       "      <td>0.006271</td>\n",
       "      <td>0.010626</td>\n",
       "      <td>Low</td>\n",
       "      <td>1.0</td>\n",
       "      <td>0.010626</td>\n",
       "    </tr>\n",
       "    <tr>\n",
       "      <th>2025-06-24</th>\n",
       "      <td>202.590</td>\n",
       "      <td>203.44</td>\n",
       "      <td>200.2000</td>\n",
       "      <td>200.30</td>\n",
       "      <td>54064033</td>\n",
       "      <td>200.30</td>\n",
       "      <td>-0.005973</td>\n",
       "      <td>0.011921</td>\n",
       "      <td>Low</td>\n",
       "      <td>1.0</td>\n",
       "      <td>0.011921</td>\n",
       "    </tr>\n",
       "    <tr>\n",
       "      <th>2025-06-23</th>\n",
       "      <td>201.625</td>\n",
       "      <td>202.30</td>\n",
       "      <td>198.9600</td>\n",
       "      <td>201.50</td>\n",
       "      <td>55814272</td>\n",
       "      <td>201.50</td>\n",
       "      <td>0.002484</td>\n",
       "      <td>0.013841</td>\n",
       "      <td>Low</td>\n",
       "      <td>1.0</td>\n",
       "      <td>0.013841</td>\n",
       "    </tr>\n",
       "  </tbody>\n",
       "</table>\n",
       "</div>"
      ],
      "text/plain": [
       "               open    high       low   close    volume  adjClose  logReturn  \\\n",
       "2025-06-27  201.890  203.22  200.0000  201.08  73188571    201.08   0.000398   \n",
       "2025-06-26  201.430  202.64  199.4600  201.00  50799121    201.00  -0.002782   \n",
       "2025-06-25  201.450  203.67  200.6201  201.56  39525730    201.56   0.006271   \n",
       "2025-06-24  202.590  203.44  200.2000  200.30  54064033    200.30  -0.005973   \n",
       "2025-06-23  201.625  202.30  198.9600  201.50  55814272    201.50   0.002484   \n",
       "\n",
       "            volatility riskRegime  posSize (%)  stopLoss (%)  \n",
       "2025-06-27    0.010631        Low          1.0      0.010631  \n",
       "2025-06-26    0.010647        Low          1.0      0.010647  \n",
       "2025-06-25    0.010626        Low          1.0      0.010626  \n",
       "2025-06-24    0.011921        Low          1.0      0.011921  \n",
       "2025-06-23    0.013841        Low          1.0      0.013841  "
      ]
     },
     "execution_count": 20,
     "metadata": {},
     "output_type": "execute_result"
    }
   ],
   "source": [
    "# Load historical AAPL data\n",
    "data = fetch_daily_data(\"AAPL\", \"203-01-01\", \"2025-06-27\").sort_index(ascending = True)\n",
    "\n",
    "# Calculate log return\n",
    "data['logReturn'] = np.log(data['adjClose']).diff()\n",
    "\n",
    "# Rolling 20-day volatility as risk regime proxy\n",
    "data['volatility'] = data['logReturn'].rolling(window=20).std()\n",
    "\n",
    "# Define regime: High if above median, else low\n",
    "data['riskRegime'] = np.where(data['volatility'] > data['volatility'].median(), 'High', 'Low')\n",
    "\n",
    "# Adjust position size as a % of normal size: lower when uncertain, higher when favorable\n",
    "data['posSize (%)'] = np.where(data['riskRegime'] == 'High', 0.5, 1.0)\n",
    "\n",
    "# Adjust stop-loss as a % of price: looser when uncertain, tighter when favorable\n",
    "data['stopLoss (%)'] = np.where(data['riskRegime'] == 'High', 2 * data['volatility'], 1 * data['volatility'])\n",
    "\n",
    "# Sort data in descending order of date\n",
    "data = data.sort_index(ascending = False)\n",
    "\n",
    "data.head()"
   ]
  },
  {
   "cell_type": "markdown",
   "id": "6028a352",
   "metadata": {},
   "source": [
    "## 🫧 K-means Clustering\n",
    "K-means clustering is an unsupervised learning method that groups similar periods in market data based on features like returns, volatility, and momentum. It allows segmenting historical periods into distinct market regimes, making it easier to assign optimal trading strategies.\n",
    "\n",
    "Different strategies work better in different regimes:\n",
    "Momentum strategies thrive in trending markets.\\\n",
    "Mean-reversion strategies work better in sideways markets.\\\n",
    "Volatility breakout strategies perform well in high-volatility environments.\\\n",
    "Example: Detect a high-volatility regime → switch from mean-reversion to momentum breakout."
   ]
  },
  {
   "cell_type": "code",
   "execution_count": 1,
   "id": "49d34211",
   "metadata": {},
   "outputs": [
    {
     "ename": "ModuleNotFoundError",
     "evalue": "No module named 'sklearn'",
     "output_type": "error",
     "traceback": [
      "\u001b[0;31m---------------------------------------------------------------------------\u001b[0m",
      "\u001b[0;31mModuleNotFoundError\u001b[0m                       Traceback (most recent call last)",
      "Cell \u001b[0;32mIn[1], line 2\u001b[0m\n\u001b[1;32m      1\u001b[0m \u001b[38;5;66;03m# Import and Setup\u001b[39;00m\n\u001b[0;32m----> 2\u001b[0m \u001b[38;5;28;01mfrom\u001b[39;00m\u001b[38;5;250m \u001b[39m\u001b[38;5;21;01msklearn\u001b[39;00m\u001b[38;5;21;01m.\u001b[39;00m\u001b[38;5;21;01mcluster\u001b[39;00m\u001b[38;5;250m \u001b[39m\u001b[38;5;28;01mimport\u001b[39;00m KMeans\n\u001b[1;32m      3\u001b[0m \u001b[38;5;28;01mfrom\u001b[39;00m\u001b[38;5;250m \u001b[39m\u001b[38;5;21;01msklearn\u001b[39;00m\u001b[38;5;21;01m.\u001b[39;00m\u001b[38;5;21;01mpreprocessing\u001b[39;00m\u001b[38;5;250m \u001b[39m\u001b[38;5;28;01mimport\u001b[39;00m StandardScaler\n\u001b[1;32m      4\u001b[0m \u001b[38;5;28;01mimport\u001b[39;00m\u001b[38;5;250m \u001b[39m\u001b[38;5;21;01mseaborn\u001b[39;00m\u001b[38;5;250m \u001b[39m\u001b[38;5;28;01mas\u001b[39;00m\u001b[38;5;250m \u001b[39m\u001b[38;5;21;01msns\u001b[39;00m\n",
      "\u001b[0;31mModuleNotFoundError\u001b[0m: No module named 'sklearn'"
     ]
    }
   ],
   "source": [
    "# Import and Setup\n",
    "from sklearn.cluster import KMeans\n",
    "from sklearn.preprocessing import StandardScaler\n",
    "import seaborn as sns"
   ]
  },
  {
   "cell_type": "code",
   "execution_count": null,
   "id": "96a176cd",
   "metadata": {},
   "outputs": [
    {
     "ename": "NameError",
     "evalue": "name 'StandardScaler' is not defined",
     "output_type": "error",
     "traceback": [
      "\u001b[0;31m---------------------------------------------------------------------------\u001b[0m",
      "\u001b[0;31mNameError\u001b[0m                                 Traceback (most recent call last)",
      "Cell \u001b[0;32mIn[26], line 15\u001b[0m\n\u001b[1;32m     13\u001b[0m \u001b[38;5;66;03m# Standardize each feature\u001b[39;00m\n\u001b[1;32m     14\u001b[0m features \u001b[38;5;241m=\u001b[39m data[[\u001b[38;5;124m'\u001b[39m\u001b[38;5;124mlogReturn\u001b[39m\u001b[38;5;124m'\u001b[39m, \u001b[38;5;124m'\u001b[39m\u001b[38;5;124mvolatility\u001b[39m\u001b[38;5;124m'\u001b[39m, \u001b[38;5;124m'\u001b[39m\u001b[38;5;124mMomentum\u001b[39m\u001b[38;5;124m'\u001b[39m]]\u001b[38;5;241m.\u001b[39mdropna()\n\u001b[0;32m---> 15\u001b[0m scaled \u001b[38;5;241m=\u001b[39m \u001b[43mStandardScaler\u001b[49m()\u001b[38;5;241m.\u001b[39mfit_transform(features)\n\u001b[1;32m     17\u001b[0m \u001b[38;5;66;03m# Apply K-Means with k = 3\u001b[39;00m\n\u001b[1;32m     18\u001b[0m kmeans \u001b[38;5;241m=\u001b[39m KMeans(n_clusters\u001b[38;5;241m=\u001b[39m\u001b[38;5;241m3\u001b[39m, random_state\u001b[38;5;241m=\u001b[39m\u001b[38;5;241m42\u001b[39m)\n",
      "\u001b[0;31mNameError\u001b[0m: name 'StandardScaler' is not defined"
     ]
    }
   ],
   "source": [
    "# Load historical TSLA data\n",
    "data = fetch_daily_data(\"TSLA\", \"203-01-01\", \"2025-06-27\").sort_index(ascending = True)\n",
    "\n",
    "# Calculate log return\n",
    "data['logReturn'] = np.log(data['adjClose']).diff()\n",
    "\n",
    "# Rolling 20-day volatility as risk regime proxy\n",
    "data['volatility'] = data['logReturn'].rolling(window=20).std()\n",
    "\n",
    "# Calculate momentum\n",
    "data['Momentum'] = data['adjClose'].pct_change(20)\n",
    "\n",
    "# Standardize each feature\n",
    "features = data[['logReturn', 'volatility', 'Momentum']].dropna()\n",
    "scaled = StandardScaler().fit_transform(features)\n",
    "\n",
    "# Apply K-Means with k = 3\n",
    "kmeans = KMeans(n_clusters=3, random_state=42)\n",
    "data.loc[features.index, 'KMeansRegime'] = kmeans.fit_predict(scaled)\n",
    "\n",
    "# # Assign strategy per cluster\n",
    "# strategy_map = {0: 'Momentum', 1: 'Mean Reversion', 2: 'Neutral'}\n",
    "# data['strategy'] = data['KMeansRegime'].map(strategy_map)\n",
    "\n",
    "data.head()"
   ]
  },
  {
   "cell_type": "code",
   "execution_count": null,
   "id": "30314e5e",
   "metadata": {},
   "outputs": [],
   "source": [
    "cluster_means = features.copy()\n",
    "cluster_means['cluster'] = kmeans.labels_\n",
    "print(cluster_means.groupby('cluster').mean())\n",
    "sns.pairplot(cluster_means, hue='cluster')"
   ]
  },
  {
   "cell_type": "markdown",
   "id": "b17c6f30",
   "metadata": {},
   "source": [
    "## 🕸 Hidden Markov Model (HMM)\n",
    "HMM is a probabilistic model that assumes market regimes are hidden states generating observable returns and infers these latent states and their probabilities. It enables dynamic strategy switching and probabilistic risk adjustments.\n",
    "\n",
    "on historical price data, classify regimes such as bull or bear markets. \n",
    "Fit on log returns and predict the most probable state at each time step opting for trend-following strategies in one state and mean-reversion strategies in another. \n",
    "switch strategies."
   ]
  },
  {
   "cell_type": "code",
   "execution_count": null,
   "id": "d337ca50",
   "metadata": {},
   "outputs": [],
   "source": [
    "# Import and Setup\n",
    "from hmmlearn.hmm import GaussianHMM"
   ]
  },
  {
   "cell_type": "code",
   "execution_count": null,
   "id": "43c84e0d",
   "metadata": {},
   "outputs": [],
   "source": [
    "# Drop NaNs and use returns for HMM\n",
    "returns = data['LogRet'].dropna().values.reshape(-1, 1)\n",
    "hmm = GaussianHMM(n_components=2, covariance_type='full', n_iter=1000, random_state=42)\n",
    "hmm.fit(returns)\n",
    "hidden_states = hmm.predict(returns)\n",
    "\n",
    "# Store regime and probability\n",
    "data.loc[data['LogRet'].dropna().index, 'HMM_State'] = hidden_states\n",
    "prob_matrix = hmm.predict_proba(returns)\n",
    "data.loc[data['LogRet'].dropna().index, 'HMM_Prob_State0'] = prob_matrix[:, 0]\n",
    "\n",
    "# Example logic: Use strategy & risk scaling based on HMM state\n",
    "data['HMM_Strategy'] = np.where(data['HMM_State'] == 0, 'Trend', 'Reversion')\n",
    "data['HMM_Position_Size'] = np.where(data['HMM_Prob_State0'] > 0.8, 1.0, 0.5)"
   ]
  },
  {
   "cell_type": "markdown",
   "id": "c2e91491",
   "metadata": {},
   "source": [
    "## 📈 Visual Example: Strategy vs. Regimes"
   ]
  },
  {
   "cell_type": "code",
   "execution_count": null,
   "id": "6466c57d",
   "metadata": {},
   "outputs": [],
   "source": [
    "plt.figure(figsize=(12, 6))\n",
    "for i in range(2):\n",
    "    mask = data['HMM_State'] == i\n",
    "    plt.plot(data.index[mask], data['Adj Close'][mask], '.', label=f'HMM Regime {i}')\n",
    "plt.legend()\n",
    "plt.title('HMM-Inferred Market Regimes')\n",
    "plt.show()"
   ]
  }
 ],
 "metadata": {
  "kernelspec": {
   "display_name": ".venv",
   "language": "python",
   "name": "python3"
  },
  "language_info": {
   "codemirror_mode": {
    "name": "ipython",
    "version": 3
   },
   "file_extension": ".py",
   "mimetype": "text/x-python",
   "name": "python",
   "nbconvert_exporter": "python",
   "pygments_lexer": "ipython3",
   "version": "3.12.3"
  }
 },
 "nbformat": 4,
 "nbformat_minor": 5
}
