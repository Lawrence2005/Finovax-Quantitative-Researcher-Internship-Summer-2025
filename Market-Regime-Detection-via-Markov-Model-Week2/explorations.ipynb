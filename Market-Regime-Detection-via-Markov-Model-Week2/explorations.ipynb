{
 "cells": [
  {
   "cell_type": "markdown",
   "id": "b4d1771f",
   "metadata": {},
   "source": [
    "## 🔍 Market Regime Detection\n",
    "The various decisions and actions for profit-seeking in financial markets is driven largely by how those markets behave. When asset prices have steadily been in an upward trend for the past several months, for example, many would stay invested or even use leverage to capture more gains. On the other hand, when priecs rise along with higher interest rate, as in a couple years ago, perhaps it’s safer to opt for commodity-related investments.\\\n",
    "These distinct patterns of market behavior are known as market regimes, and they often shift because of changing government policy or broader macroeconomic conditions. Consequently, the effectiveness of different investments can also change, with impacts on returns, volatility, and how prices move over time. \\\n",
    "For this reason, it is vital to detect market regime shifts so that traders and investors can stay informed to make the best choice of quantitative strategy and portfolio allocation to better align with current environment and maximize returns.\\\n",
    "Below are some popular techniques and their applications."
   ]
  },
  {
   "cell_type": "markdown",
   "id": "68a0e3e5",
   "metadata": {},
   "source": [
    "1. Strategy Switching\n",
    "Different strategies work better in different regimes:\n",
    "Momentum strategies thrive in trending markets.\\\n",
    "Mean-reversion strategies work better in sideways markets.\\\n",
    "Volatility breakout strategies perform well in high-volatility environments.\\\n",
    "Example: Detect a high-volatility regime → switch from mean-reversion to momentum breakout.\n",
    "\n",
    "2. Position Sizing / Risk Management\n",
    "Traders may reduce exposure during uncertain regimes or increase size during favorable ones.\\\n",
    "High volatility → smaller positions.\\\n",
    "Stable bull market → larger positions, tighter stop-losses.\\"
   ]
  },
  {
   "cell_type": "markdown",
   "id": "bb92a961",
   "metadata": {},
   "source": [
    "## 📏 Rule-based Method\n",
    "Rule-based methods rely on explicit thresholds derived from indicators like volatility, momentum, or moving averages. These methods are simple, transparent, and effective for making real-time risk management decisions, such as adjusting position sizes or stop-loss distances."
   ]
  },
  {
   "cell_type": "code",
   "execution_count": null,
   "id": "dcaf49a0",
   "metadata": {
    "vscode": {
     "languageId": "plaintext"
    }
   },
   "outputs": [],
   "source": [
    "# Import and Setup\n",
    "import yfinance as yf\n",
    "import pandas as pd\n",
    "import numpy as np\n",
    "import matplotlib.pyplot as plt"
   ]
  },
  {
   "cell_type": "code",
   "execution_count": null,
   "id": "2105a0fb",
   "metadata": {
    "vscode": {
     "languageId": "plaintext"
    }
   },
   "outputs": [],
   "source": [
    "# Load historical SPY data\n",
    "data = yf.download(\"SPY\", start=\"2015-01-01\", end=\"2024-12-31\")\n",
    "data['LogRet'] = np.log(data['Adj Close']).diff()\n",
    "\n",
    "# Rolling 20-day volatility as risk regime proxy\n",
    "data['Volatility'] = data['LogRet'].rolling(window=20).std()\n",
    "\n",
    "# Define regime: High if above median, else low\n",
    "vol_median = data['Volatility'].median()\n",
    "data['Risk_Regime'] = np.where(data['Volatility'] > vol_median, 'High Risk', 'Low Risk')\n",
    "\n",
    "# Example: Adjust position size\n",
    "data['Position_Size'] = np.where(data['Risk_Regime'] == 'High Risk', 0.5, 1.0)"
   ]
  },
  {
   "cell_type": "markdown",
   "id": "6028a352",
   "metadata": {},
   "source": [
    "## 🫧 K-means Clustering\n",
    "K-means clustering is an unsupervised learning method that groups similar periods in market data based on features like returns, volatility, and momentum. It allows segmenting historical periods into distinct market regimes, making it easier to assign optimal trading strategies."
   ]
  },
  {
   "cell_type": "code",
   "execution_count": null,
   "id": "49d34211",
   "metadata": {
    "vscode": {
     "languageId": "plaintext"
    }
   },
   "outputs": [],
   "source": [
    "# Import and Setup\n",
    "from sklearn.cluster import KMeans\n",
    "from sklearn.preprocessing import StandardScaler"
   ]
  },
  {
   "cell_type": "code",
   "execution_count": null,
   "id": "96a176cd",
   "metadata": {
    "vscode": {
     "languageId": "plaintext"
    }
   },
   "outputs": [],
   "source": [
    "# Features: 20-day returns, volatility, and momentum\n",
    "data['Momentum'] = data['Adj Close'].pct_change(20)\n",
    "features = data[['LogRet', 'Volatility', 'Momentum']].dropna()\n",
    "scaled = StandardScaler().fit_transform(features)\n",
    "\n",
    "# Apply K-Means\n",
    "kmeans = KMeans(n_clusters=3, random_state=42)\n",
    "data.loc[features.index, 'KMeans_Regime'] = kmeans.fit_predict(scaled)\n",
    "\n",
    "# Assign strategy per cluster (example logic)\n",
    "cluster_strategy_map = {0: 'Momentum', 1: 'Mean Reversion', 2: 'Neutral'}\n",
    "data['Strategy'] = data['KMeans_Regime'].map(cluster_strategy_map)"
   ]
  },
  {
   "cell_type": "markdown",
   "id": "b17c6f30",
   "metadata": {},
   "source": [
    "## 🕸 Hidden Markov Model (HMM)\n",
    "HMM is a probabilistic model that assumes market regimes are hidden states generating observable returns and infers these latent states and their probabilities. It enables dynamic strategy switching and probabilistic risk adjustments.\n",
    "\n",
    "on historical price data, classify regimes such as bull or bear markets. \n",
    "Fit on log returns and predict the most probable state at each time step opting for trend-following strategies in one state and mean-reversion strategies in another. \n",
    "switch strategies."
   ]
  },
  {
   "cell_type": "code",
   "execution_count": null,
   "id": "d337ca50",
   "metadata": {
    "vscode": {
     "languageId": "plaintext"
    }
   },
   "outputs": [],
   "source": [
    "# Import and Setup\n",
    "from hmmlearn.hmm import GaussianHMM"
   ]
  },
  {
   "cell_type": "code",
   "execution_count": null,
   "id": "43c84e0d",
   "metadata": {
    "vscode": {
     "languageId": "plaintext"
    }
   },
   "outputs": [],
   "source": [
    "# Drop NaNs and use returns for HMM\n",
    "returns = data['LogRet'].dropna().values.reshape(-1, 1)\n",
    "hmm = GaussianHMM(n_components=2, covariance_type='full', n_iter=1000, random_state=42)\n",
    "hmm.fit(returns)\n",
    "hidden_states = hmm.predict(returns)\n",
    "\n",
    "# Store regime and probability\n",
    "data.loc[data['LogRet'].dropna().index, 'HMM_State'] = hidden_states\n",
    "prob_matrix = hmm.predict_proba(returns)\n",
    "data.loc[data['LogRet'].dropna().index, 'HMM_Prob_State0'] = prob_matrix[:, 0]\n",
    "\n",
    "# Example logic: Use strategy & risk scaling based on HMM state\n",
    "data['HMM_Strategy'] = np.where(data['HMM_State'] == 0, 'Trend', 'Reversion')\n",
    "data['HMM_Position_Size'] = np.where(data['HMM_Prob_State0'] > 0.8, 1.0, 0.5)"
   ]
  },
  {
   "cell_type": "markdown",
   "id": "c2e91491",
   "metadata": {},
   "source": [
    "## 📈 Visual Example: Strategy vs. Regimes"
   ]
  },
  {
   "cell_type": "code",
   "execution_count": null,
   "id": "6466c57d",
   "metadata": {
    "vscode": {
     "languageId": "plaintext"
    }
   },
   "outputs": [],
   "source": [
    "plt.figure(figsize=(12, 6))\n",
    "for i in range(2):\n",
    "    mask = data['HMM_State'] == i\n",
    "    plt.plot(data.index[mask], data['Adj Close'][mask], '.', label=f'HMM Regime {i}')\n",
    "plt.legend()\n",
    "plt.title('HMM-Inferred Market Regimes')\n",
    "plt.show()"
   ]
  }
 ],
 "metadata": {
  "language_info": {
   "name": "python"
  }
 },
 "nbformat": 4,
 "nbformat_minor": 5
}
