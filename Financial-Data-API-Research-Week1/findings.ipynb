{
 "cells": [
  {
   "cell_type": "markdown",
   "id": "4b640b5b",
   "metadata": {},
   "source": [
    "## 📝 Free/Freemium API Provider Comparison\n",
    "\n",
    "| Provider        |  Free Tier Rate Limits | Data Freshness | Historical Depth | Python SDK | 1-Min Support | Notes |\n",
    "|-----------------|------------------------|----------------|------------------|-------------|---------------|-------|\n",
    "\n",
    "Data Coverage: How far back does the historical data go? Is it up-to-date?\n",
    "Data Fields: Does it provide OHLC, adjusted close, and volume?\n",
    "Rate Limits: Free-tier request limits per minute/day.\n",
    "Ease of Use: Python SDK availability, ease of authentication.\n",
    "Docs & Support: Quality of documentation and community examples.\n",
    "Reliability: Are there known issues like downtime or staleness?\n",
    "\n",
    "\n",
    "| Alpha Vantage   | 5/min, 500/day         | ✅ Often delayed | Medium          | ✅           | ❌ (free)      |       |\n",
    "| Tiingo          | ~500 symbols/day       | ✅ Fresh        | ✅ Deep          | ✅           | ❌ (free)      |       |\n",
    "| ...             | ...                    | ...            | ...              | ...         | ...           |       |\n",
    "\n",
    "### ✅ API Shortlist\n",
    "| Provider              |  Pros                                                        | Cons                                                         |\n",
    "|-----------------------|--------------------------------------------------------------|--------------------------------------------------------------|\n",
    "\n",
    "e.g. 1. Alpha Vantage\n",
    "Pros: Free API key; Good documentation; Simple alphavantage Python SDK.\n",
    "Cons: 5 calls/min, 500 calls/day (free tier); Delays in data refresh; No intraday data on free tier.\n",
    "e.g. 2. Tiingo\n",
    "Pros: Free tier includes end-of-day data; Good coverage, adjusted data available; tiingo Python client available.\n",
    "Cons: Requires registration and API key; Limited to ~500 daily symbols.\n",
    "\n",
    "Based on the evaluation, .... is the most suitable candidate for production use......"
   ]
  },
  {
   "cell_type": "code",
   "execution_count": null,
   "id": "c4e6ccb0",
   "metadata": {},
   "outputs": [],
   "source": [
    "# 🚀 Import and Setup\n",
    "import pandas as pd\n",
    "import matplotlib.pyplot as plt  # or plotly\n",
    "from main import fetch_daily_data"
   ]
  },
  {
   "cell_type": "code",
   "execution_count": null,
   "id": "262220f4",
   "metadata": {},
   "outputs": [],
   "source": [
    "# 📦 Try fetching from each API\n",
    "df = fetch_daily_data(\"AAPL\", \"2023-01-01\", \"2023-12-31\", source=\"tiingo\")\n",
    "df.head()"
   ]
  },
  {
   "cell_type": "code",
   "execution_count": null,
   "id": "83648b1f",
   "metadata": {},
   "outputs": [],
   "source": [
    "# 📈 Visualizations\n",
    "# Show OHLC candlestick for a ticker.\n",
    "# Plot volume alongside price.\n",
    "df.set_index(\"date\")[[\"close\"]].plot(title=\"AAPL Daily Close\")"
   ]
  },
  {
   "cell_type": "markdown",
   "id": "6946ad64",
   "metadata": {},
   "source": [
    "## 🔍 Bonus: Intraday (1-minute) Data Exploration\n",
    "\n",
    "- Which APIs support it?\n",
    "- How to access?\n",
    "- Code snippets (optional)"
   ]
  }
 ],
 "metadata": {
  "language_info": {
   "name": "python"
  }
 },
 "nbformat": 4,
 "nbformat_minor": 5
}
