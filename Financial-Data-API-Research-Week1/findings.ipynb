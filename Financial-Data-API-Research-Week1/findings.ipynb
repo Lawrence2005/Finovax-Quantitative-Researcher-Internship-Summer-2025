{
 "cells": [
  {
   "cell_type": "markdown",
   "id": "4b640b5b",
   "metadata": {},
   "source": [
    "## 📝 Free/Freemium API Provider Comparison\n",
    "### Provider Research Log\n",
    "| Provider      | Data Completeness | Data Depth     | Data Freshness   | Rate Limits          | Python SDK                           | Documentation Quality & Community Support                               |\n",
    "|:-------------:|:-----------------:|---------------:|:----------------:|:--------------------:|:------------------------------------:|:-----------------------------------------------------------------------:|\n",
    "| Alpha Vantage | ☑                | 20+ years      | Up-to-date       | 25 requests/day      | Easy -- REST API, `requests`, `json` | [Comprehensive](https://www.alphavantage.co/documentation/)              |\n",
    "| Tiingo | ☑ | 30+ years | Up-to-date | 50 requests/hour, 1000 requests/day; 500 symbols/month | Easy -- [Python Library/SDK](https://github.com/hydrosquall/tiingo-python?tab=readme-ov-file), REST API, `requests`, `json`| [Comprehensive](https://www.tiingo.com/documentation/general/overview)   |\n",
    "| IEX Cloud/iexfinance * | N/A      | N/A           | N/A              | N/A                  | N/A                                   | N/A                                                                     |\n",
    "| Twelve Data | ✔️ (Fetching adj_close requires an extra request) | 20+ years | Up-to-date | 8 requests/minute, 800 requests/day | Easy -- [Python Library/SDK](https://github.com/twelvedata/twelvedata-python), REST API, `json` | [Sufficient](https://twelvedata.com/docs#getting-started) |\n",
    "| Google Finance * | N/A           | N/A            | N/A              | N/A                  | N/A                                   | N/A                                                                     |\n",
    "| Polygon.io ** | ✔️ (Fetching adj_close requires an extra request) | 2 years | Delayed by 2 days | 5 requests/minute | Easy -- [Python Library/SDK](https://github.com/polygon-io/client-python), REST API, `json` | [Comprehensive](https://polygon.io/docs/rest/quickstart) |\n",
    "| Alpaca ** | ✔️ (Fetching adj_close requires an extra request) | 7+ years | Up-to-date | 200 requests/minute | Easy -- [Python Library/SDK](https://github.com/alpacahq/alpaca-py), REST API, `requests`, `json` | [Sufficient](https://docs.alpaca.markets/reference/authentication-2) |\n",
    "\n",
    "---\n",
    "### Provider Pros & Cons\n",
    "| Provider            |  Pros                                                                                      | Cons                                                                                       |\n",
    "|:-------------------:|:------------------------------------------------------------------------------------------:|:------------------------------------------------------------------------------------------:|\n",
    "| Alpha Vantage       | Awesome all-around -- Thorough Data, Great documentation, Simple Python SDK; NASDAQ licensed | Restrained service at free plan -- Low rate limits, No realtime US market data           |\n",
    "| Tiingo              | Awesome all-around -- Thorough Data, Great documentation, Simple Python SDK; Cross-connected to IEX exchange | Restrained service at free plan -- Relatively low rate limits, Few screeners              |\n",
    "| IEX Cloud/iexfinance * | N/A                                                                                     | N/A                                                                                        |\n",
    "| Twelve Data         | Well-rounded -- Ample Data, Good documentation, Simple Python SDK, 99.95% SLA              | Restrained service at free plan -- Relatively low rate limits, No fundamental stock data; Halved request efficiency for data completeness |\n",
    "| Google Finance *    | N/A                                                                                        | N/A                                                                                        |\n",
    "| Polygon.io **       | Adequate -- Ample Data, Great documentation, Simple Python SDK; NASDAQ data distributor    | Restrained service at free plan -- Low rate limits, Low data depth; Latent data; Halved request efficiency for data completeness |\n",
    "| Alpaca **           | Cost effective -- Ample Data, High rate limit, Good documentation, Simple Python SDK; FINRA and SEC registered | Low data depth; Halved request efficiency for data completeness        |\n",
    "\n",
    "---\n",
    "*: The API services have been retired. ([IEX Cloud/iexfinance since August 2024](https://iexcloud.org/), [Google since October 2012](https://developers.googleblog.com/en/changes-to-deprecation-policies-and-api-spring-cleaning/))\\\n",
    "**: Provides no free plan for business/commercial use."
   ]
  },
  {
   "cell_type": "markdown",
   "id": "2cd79b1c",
   "metadata": {},
   "source": [
    "## 🎖️ API Shortlist\n",
    "All the API providers above could be suitable alternatives to Yahoo Finance, but the following, especially, form a shortlist:\\\n",
    "**Tiingo** is the best candidate for production use because\n",
    "- it offers extensive historical data with decent rate limits at its free plan, and\n",
    "- it is best for developing long-term quantitative strategies.\n",
    "\n",
    "**Alpha Vantage** may serve as a secondary backup because\n",
    "- it offers solid historical data depth with the most exhaustive scope of data, and\n",
    "- it is best for low-volume and fundamental research.\n",
    "\n",
    "**Alpaca** is also useful because\n",
    "- it offers great rate limits for complete data, and\n",
    "- it is best for enabling active trading-style and bulk ticker tracking."
   ]
  },
  {
   "cell_type": "markdown",
   "id": "f9e5a0f9",
   "metadata": {},
   "source": [
    "## 📈 Visualizations"
   ]
  },
  {
   "cell_type": "code",
   "execution_count": null,
   "id": "c4e6ccb0",
   "metadata": {},
   "outputs": [],
   "source": [
    "# Import and Setup\n",
    "import pandas as pd\n",
    "import matplotlib.pyplot as plt  # or plotly\n",
    "from main import fetch_daily_data"
   ]
  },
  {
   "cell_type": "code",
   "execution_count": null,
   "id": "262220f4",
   "metadata": {},
   "outputs": [],
   "source": [
    "# Try fetching from each API\n",
    "df = fetch_daily_data(\"AAPL\", \"2023-01-01\", \"2023-12-31\", source=\"tiingo\")\n",
    "df.head()"
   ]
  },
  {
   "cell_type": "code",
   "execution_count": null,
   "id": "83648b1f",
   "metadata": {},
   "outputs": [],
   "source": [
    "# Plottings\n",
    "# - Show OHLC candlestick for a ticker.\n",
    "# - Plot volume alongside price.\n",
    "df.set_index(\"date\")[[\"close\"]].plot(title=\"AAPL Daily Close\")"
   ]
  },
  {
   "cell_type": "markdown",
   "id": "6946ad64",
   "metadata": {},
   "source": [
    "## 🔍 Bonus: Intraday (1-minute) Data Exploration\n",
    "Check each shortlisted provider for:\n",
    "- (Free) How to access to 1-minute historical data (at least for the past 5 trading days)?\n",
    "- Whether data is real-time or delayed.\n",
    "- Whether intraday feeds data requires additional setup (e.g. paid plan/elevated permissions) or rate-limit considerations.\n",
    "Code snippets (optional)"
   ]
  }
 ],
 "metadata": {
  "language_info": {
   "name": "python"
  }
 },
 "nbformat": 4,
 "nbformat_minor": 5
}
