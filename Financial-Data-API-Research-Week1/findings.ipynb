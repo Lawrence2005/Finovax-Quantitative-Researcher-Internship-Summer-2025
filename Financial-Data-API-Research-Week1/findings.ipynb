{
 "cells": [
  {
   "cell_type": "markdown",
   "id": "4b640b5b",
   "metadata": {},
   "source": [
    "## 📝 Free/Freemium API Provider Comparison\n",
    "### Provider Research Log\n",
    "| Provider      | Data Completeness | Data Depth     | Data Freshness   | Rate Limits          | Python SDK                           | Documentation Quality & Community Support                               |\n",
    "|:-------------:|:-----------------:|---------------:|:----------------:|:--------------------:|:------------------------------------:|:-----------------------------------------------------------------------:|\n",
    "| Alpha Vantage | ☑                | 20+ years      | Up-to-date       | 25 requests/day      | Easy -- REST API, `requests`, `json` | [Comprehensive](https://www.alphavantage.co/documentation/)              |\n",
    "| Tiingo | ☑ | 30+ years | Up-to-date | 50 requests/hour, 1000 requests/day; 500 symbols/month | Easy -- [Python Library/SDK](https://github.com/hydrosquall/tiingo-python?tab=readme-ov-file), REST API, `requests`, `json`| [Comprehensive](https://www.tiingo.com/documentation/general/overview)   |\n",
    "| IEX Cloud/iexfinance * | N/A      | N/A           | N/A              | N/A                  | N/A                                   | N/A                                                                     |\n",
    "| Twelve Data | ✔️ (Fetching adj_close requires an extra request) | 20+ years | Up-to-date | 8 requests/minute, 800 requests/day | Easy -- [Python Library/SDK](https://github.com/twelvedata/twelvedata-python), REST API, `json` | [Sufficient](https://twelvedata.com/docs#getting-started) |\n",
    "| Google Finance * | N/A           | N/A            | N/A              | N/A                  | N/A                                   | N/A                                                                     |\n",
    "| Polygon.io ** | ✔️ (Fetching adj_close requires an extra request) | 2 years | Delayed by 2 days | 5 requests/minute | Easy -- [Python Library/SDK](https://github.com/polygon-io/client-python), REST API, `json` | [Comprehensive](https://polygon.io/docs/rest/quickstart) |\n",
    "| Alpaca ** | ✔️ (Fetching adj_close requires an extra request) | 7+ years | Up-to-date | 200 requests/minute | Easy -- [Python Library/SDK](https://github.com/alpacahq/alpaca-py), REST API, `requests`, `json` | [Sufficient](https://docs.alpaca.markets/reference/authentication-2) |\n",
    "\n",
    "---\n",
    "### Provider Pros & Cons\n",
    "| Provider            |  Pros                                                                                      | Cons                                                                                       |\n",
    "|:-------------------:|:------------------------------------------------------------------------------------------:|:------------------------------------------------------------------------------------------:|\n",
    "| Alpha Vantage       | Awesome all-around -- Thorough Data, Great documentation, Simple Python SDK; NASDAQ licensed | Restrained service at free plan -- Low rate limits, No realtime US market data           |\n",
    "| Tiingo              | Awesome all-around -- Thorough Data, Great documentation, Simple Python SDK; Cross-connected to IEX exchange | Restrained service at free plan -- Relatively low rate limits, Few screeners              |\n",
    "| IEX Cloud/iexfinance * | N/A                                                                                     | N/A                                                                                        |\n",
    "| Twelve Data         | Well-rounded -- Ample Data, Good documentation, Simple Python SDK, 99.95% SLA              | Restrained service at free plan -- Relatively low rate limits, No fundamental stock data; Halved request efficiency for data completeness |\n",
    "| Google Finance *    | N/A                                                                                        | N/A                                                                                        |\n",
    "| Polygon.io **       | Adequate -- Ample Data, Great documentation, Simple Python SDK; NASDAQ data distributor    | Restrained service at free plan -- Low rate limits, Low data depth; Latent data; Halved request efficiency for data completeness |\n",
    "| Alpaca **           | Cost effective -- Ample Data, High rate limit, Good documentation, Simple Python SDK; FINRA and SEC registered | Low data depth; Halved request efficiency for data completeness        |\n",
    "\n",
    "---\n",
    "*: The API services have been retired. ([IEX Cloud/iexfinance since August 2024](https://iexcloud.org/), [Google since October 2012](https://developers.googleblog.com/en/changes-to-deprecation-policies-and-api-spring-cleaning/))\\\n",
    "**: Provides no free plan for business/commercial use."
   ]
  },
  {
   "cell_type": "markdown",
   "id": "2cd79b1c",
   "metadata": {},
   "source": [
    "## 🎖️ API Shortlist\n",
    "All the API providers above could be suitable alternatives to Yahoo Finance, but the following, especially, form a shortlist:\\\n",
    "**Tiingo** is the best candidate for production use because\n",
    "- it offers extensive historical data with decent rate limits at its free plan, and\n",
    "- it is best for developing long-term quantitative strategies.\n",
    "\n",
    "**Alpha Vantage** may serve as a secondary backup because\n",
    "- it offers solid historical data depth with the most exhaustive scope of data, and\n",
    "- it is best for low-volume and fundamental research.\n",
    "\n",
    "**Alpaca** is also useful because\n",
    "- it offers great rate limits for complete data, and\n",
    "- it is best for enabling active trading-style and bulk ticker tracking."
   ]
  },
  {
   "cell_type": "markdown",
   "id": "b1d931d1",
   "metadata": {},
   "source": [
    "## 🔍 Bonus: Intraday (1-minute) Data Exploration\n",
    "All the shortlisted API providers make available 1-minute historical data for free subject to their respective rate limits same as above. At the free plan, **Alpha Vantage**'s intraday data is delayed (updated end of each trading day), and **Tiingo**'s and **Alpaca**'s are realtime but only with IEX feed."
   ]
  },
  {
   "cell_type": "markdown",
   "id": "f9e5a0f9",
   "metadata": {},
   "source": [
    "## 📈 Visualizations"
   ]
  },
  {
   "cell_type": "code",
   "execution_count": 5,
   "id": "46c738f3",
   "metadata": {},
   "outputs": [],
   "source": [
    "# Import and Setup\n",
    "import pandas as pd\n",
    "import matplotlib.pyplot as plt\n",
    "import matplotlib.dates as mdates\n",
    "from main import fetch_daily_data, fetch_intraday_data"
   ]
  },
  {
   "cell_type": "code",
   "execution_count": 12,
   "id": "3e83e215",
   "metadata": {},
   "outputs": [
    {
     "ename": "JSONDecodeError",
     "evalue": "Expecting value: line 1 column 1 (char 0)",
     "output_type": "error",
     "traceback": [
      "\u001b[31m---------------------------------------------------------------------------\u001b[39m",
      "\u001b[31mJSONDecodeError\u001b[39m                           Traceback (most recent call last)",
      "\u001b[36mFile \u001b[39m\u001b[32m~/.venv/lib/python3.12/site-packages/requests/models.py:976\u001b[39m, in \u001b[36mResponse.json\u001b[39m\u001b[34m(self, **kwargs)\u001b[39m\n\u001b[32m    975\u001b[39m \u001b[38;5;28;01mtry\u001b[39;00m:\n\u001b[32m--> \u001b[39m\u001b[32m976\u001b[39m     \u001b[38;5;28;01mreturn\u001b[39;00m \u001b[43mcomplexjson\u001b[49m\u001b[43m.\u001b[49m\u001b[43mloads\u001b[49m\u001b[43m(\u001b[49m\u001b[38;5;28;43mself\u001b[39;49m\u001b[43m.\u001b[49m\u001b[43mtext\u001b[49m\u001b[43m,\u001b[49m\u001b[43m \u001b[49m\u001b[43m*\u001b[49m\u001b[43m*\u001b[49m\u001b[43mkwargs\u001b[49m\u001b[43m)\u001b[49m\n\u001b[32m    977\u001b[39m \u001b[38;5;28;01mexcept\u001b[39;00m JSONDecodeError \u001b[38;5;28;01mas\u001b[39;00m e:\n\u001b[32m    978\u001b[39m     \u001b[38;5;66;03m# Catch JSON-related errors and raise as requests.JSONDecodeError\u001b[39;00m\n\u001b[32m    979\u001b[39m     \u001b[38;5;66;03m# This aliases json.JSONDecodeError and simplejson.JSONDecodeError\u001b[39;00m\n",
      "\u001b[36mFile \u001b[39m\u001b[32m/usr/lib/python3.12/json/__init__.py:346\u001b[39m, in \u001b[36mloads\u001b[39m\u001b[34m(s, cls, object_hook, parse_float, parse_int, parse_constant, object_pairs_hook, **kw)\u001b[39m\n\u001b[32m    343\u001b[39m \u001b[38;5;28;01mif\u001b[39;00m (\u001b[38;5;28mcls\u001b[39m \u001b[38;5;129;01mis\u001b[39;00m \u001b[38;5;28;01mNone\u001b[39;00m \u001b[38;5;129;01mand\u001b[39;00m object_hook \u001b[38;5;129;01mis\u001b[39;00m \u001b[38;5;28;01mNone\u001b[39;00m \u001b[38;5;129;01mand\u001b[39;00m\n\u001b[32m    344\u001b[39m         parse_int \u001b[38;5;129;01mis\u001b[39;00m \u001b[38;5;28;01mNone\u001b[39;00m \u001b[38;5;129;01mand\u001b[39;00m parse_float \u001b[38;5;129;01mis\u001b[39;00m \u001b[38;5;28;01mNone\u001b[39;00m \u001b[38;5;129;01mand\u001b[39;00m\n\u001b[32m    345\u001b[39m         parse_constant \u001b[38;5;129;01mis\u001b[39;00m \u001b[38;5;28;01mNone\u001b[39;00m \u001b[38;5;129;01mand\u001b[39;00m object_pairs_hook \u001b[38;5;129;01mis\u001b[39;00m \u001b[38;5;28;01mNone\u001b[39;00m \u001b[38;5;129;01mand\u001b[39;00m \u001b[38;5;129;01mnot\u001b[39;00m kw):\n\u001b[32m--> \u001b[39m\u001b[32m346\u001b[39m     \u001b[38;5;28;01mreturn\u001b[39;00m \u001b[43m_default_decoder\u001b[49m\u001b[43m.\u001b[49m\u001b[43mdecode\u001b[49m\u001b[43m(\u001b[49m\u001b[43ms\u001b[49m\u001b[43m)\u001b[49m\n\u001b[32m    347\u001b[39m \u001b[38;5;28;01mif\u001b[39;00m \u001b[38;5;28mcls\u001b[39m \u001b[38;5;129;01mis\u001b[39;00m \u001b[38;5;28;01mNone\u001b[39;00m:\n",
      "\u001b[36mFile \u001b[39m\u001b[32m/usr/lib/python3.12/json/decoder.py:337\u001b[39m, in \u001b[36mJSONDecoder.decode\u001b[39m\u001b[34m(self, s, _w)\u001b[39m\n\u001b[32m    333\u001b[39m \u001b[38;5;250m\u001b[39m\u001b[33;03m\"\"\"Return the Python representation of ``s`` (a ``str`` instance\u001b[39;00m\n\u001b[32m    334\u001b[39m \u001b[33;03mcontaining a JSON document).\u001b[39;00m\n\u001b[32m    335\u001b[39m \n\u001b[32m    336\u001b[39m \u001b[33;03m\"\"\"\u001b[39;00m\n\u001b[32m--> \u001b[39m\u001b[32m337\u001b[39m obj, end = \u001b[38;5;28;43mself\u001b[39;49m\u001b[43m.\u001b[49m\u001b[43mraw_decode\u001b[49m\u001b[43m(\u001b[49m\u001b[43ms\u001b[49m\u001b[43m,\u001b[49m\u001b[43m \u001b[49m\u001b[43midx\u001b[49m\u001b[43m=\u001b[49m\u001b[43m_w\u001b[49m\u001b[43m(\u001b[49m\u001b[43ms\u001b[49m\u001b[43m,\u001b[49m\u001b[43m \u001b[49m\u001b[32;43m0\u001b[39;49m\u001b[43m)\u001b[49m\u001b[43m.\u001b[49m\u001b[43mend\u001b[49m\u001b[43m(\u001b[49m\u001b[43m)\u001b[49m\u001b[43m)\u001b[49m\n\u001b[32m    338\u001b[39m end = _w(s, end).end()\n",
      "\u001b[36mFile \u001b[39m\u001b[32m/usr/lib/python3.12/json/decoder.py:355\u001b[39m, in \u001b[36mJSONDecoder.raw_decode\u001b[39m\u001b[34m(self, s, idx)\u001b[39m\n\u001b[32m    354\u001b[39m \u001b[38;5;28;01mexcept\u001b[39;00m \u001b[38;5;167;01mStopIteration\u001b[39;00m \u001b[38;5;28;01mas\u001b[39;00m err:\n\u001b[32m--> \u001b[39m\u001b[32m355\u001b[39m     \u001b[38;5;28;01mraise\u001b[39;00m JSONDecodeError(\u001b[33m\"\u001b[39m\u001b[33mExpecting value\u001b[39m\u001b[33m\"\u001b[39m, s, err.value) \u001b[38;5;28;01mfrom\u001b[39;00m\u001b[38;5;250m \u001b[39m\u001b[38;5;28;01mNone\u001b[39;00m\n\u001b[32m    356\u001b[39m \u001b[38;5;28;01mreturn\u001b[39;00m obj, end\n",
      "\u001b[31mJSONDecodeError\u001b[39m: Expecting value: line 1 column 1 (char 0)",
      "\nDuring handling of the above exception, another exception occurred:\n",
      "\u001b[31mJSONDecodeError\u001b[39m                           Traceback (most recent call last)",
      "\u001b[36mCell\u001b[39m\u001b[36m \u001b[39m\u001b[32mIn[12]\u001b[39m\u001b[32m, line 2\u001b[39m\n\u001b[32m      1\u001b[39m \u001b[38;5;66;03m# Fetching from each API\u001b[39;00m\n\u001b[32m----> \u001b[39m\u001b[32m2\u001b[39m df_daily = \u001b[43mfetch_daily_data\u001b[49m\u001b[43m(\u001b[49m\u001b[33;43m\"\u001b[39;49m\u001b[33;43maapl\u001b[39;49m\u001b[33;43m\"\u001b[39;49m\u001b[43m,\u001b[49m\u001b[43m \u001b[49m\u001b[33;43m\"\u001b[39;49m\u001b[33;43m2025-06-01\u001b[39;49m\u001b[33;43m\"\u001b[39;49m\u001b[43m,\u001b[49m\u001b[43m \u001b[49m\u001b[33;43m\"\u001b[39;49m\u001b[33;43m2025-06-20\u001b[39;49m\u001b[33;43m\"\u001b[39;49m\u001b[43m,\u001b[49m\u001b[43m \u001b[49m\u001b[43msource\u001b[49m\u001b[43m=\u001b[49m\u001b[33;43m\"\u001b[39;49m\u001b[33;43mtiingo\u001b[39;49m\u001b[33;43m\"\u001b[39;49m\u001b[43m)\u001b[49m\n\u001b[32m      3\u001b[39m df_daily.head()\n\u001b[32m      5\u001b[39m \u001b[38;5;66;03m# df_intraday = fetch_intraday_data(\"AAPL\", \"2025-06-01\", \"2025-06-20\", source=\"tiingo\")\u001b[39;00m\n\u001b[32m      6\u001b[39m \u001b[38;5;66;03m# df_intraday.head()\u001b[39;00m\n",
      "\u001b[36mFile \u001b[39m\u001b[32m~/Finovax-Quantitative-Researcher-Internship-Summer-2025/Financial-Data-API-Research-Week1/main.py:32\u001b[39m, in \u001b[36mfetch_daily_data\u001b[39m\u001b[34m(ticker, start_date, end_date, source)\u001b[39m\n\u001b[32m     28\u001b[39m request_url = \u001b[33mf\u001b[39m\u001b[33m\"\u001b[39m\u001b[33mhttps://api.tiingo.com/tiingo/daily/\u001b[39m\u001b[38;5;132;01m{\u001b[39;00mticker\u001b[38;5;132;01m}\u001b[39;00m\u001b[33m/prices?startDate=\u001b[39m\u001b[38;5;132;01m{\u001b[39;00mstart_date\u001b[38;5;132;01m}\u001b[39;00m\u001b[33m&format=csv&resampleFreq=monthly\u001b[39m\u001b[33m\"\u001b[39m \u001b[38;5;28;01mif\u001b[39;00m end_date \u001b[38;5;129;01mis\u001b[39;00m \u001b[38;5;28;01mNone\u001b[39;00m \u001b[38;5;28;01melse\u001b[39;00m \\\n\u001b[32m     29\u001b[39m               \u001b[33mf\u001b[39m\u001b[33m\"\u001b[39m\u001b[33mhttps://api.tiingo.com/tiingo/daily/\u001b[39m\u001b[38;5;132;01m{\u001b[39;00mticker\u001b[38;5;132;01m}\u001b[39;00m\u001b[33m/prices?startDate=\u001b[39m\u001b[38;5;132;01m{\u001b[39;00mstart_date\u001b[38;5;132;01m}\u001b[39;00m\u001b[33m&endDate=\u001b[39m\u001b[38;5;132;01m{\u001b[39;00mend_date\u001b[38;5;132;01m}\u001b[39;00m\u001b[33m&format=csv&resampleFreq=monthly\u001b[39m\u001b[33m\"\u001b[39m\n\u001b[32m     30\u001b[39m requestResponse = requests.get(request_url, headers=headers)\n\u001b[32m---> \u001b[39m\u001b[32m32\u001b[39m result = pd.DataFrame(\u001b[43mrequestResponse\u001b[49m\u001b[43m.\u001b[49m\u001b[43mjson\u001b[49m\u001b[43m(\u001b[49m\u001b[43m)\u001b[49m)\n\u001b[32m     34\u001b[39m \u001b[38;5;66;03m# Parse 'date' and set it as the index\u001b[39;00m\n\u001b[32m     35\u001b[39m result[\u001b[33m'\u001b[39m\u001b[33mdate\u001b[39m\u001b[33m'\u001b[39m] = pd.to_datetime(result[\u001b[33m'\u001b[39m\u001b[33mdate\u001b[39m\u001b[33m'\u001b[39m])\n",
      "\u001b[36mFile \u001b[39m\u001b[32m~/.venv/lib/python3.12/site-packages/requests/models.py:980\u001b[39m, in \u001b[36mResponse.json\u001b[39m\u001b[34m(self, **kwargs)\u001b[39m\n\u001b[32m    976\u001b[39m     \u001b[38;5;28;01mreturn\u001b[39;00m complexjson.loads(\u001b[38;5;28mself\u001b[39m.text, **kwargs)\n\u001b[32m    977\u001b[39m \u001b[38;5;28;01mexcept\u001b[39;00m JSONDecodeError \u001b[38;5;28;01mas\u001b[39;00m e:\n\u001b[32m    978\u001b[39m     \u001b[38;5;66;03m# Catch JSON-related errors and raise as requests.JSONDecodeError\u001b[39;00m\n\u001b[32m    979\u001b[39m     \u001b[38;5;66;03m# This aliases json.JSONDecodeError and simplejson.JSONDecodeError\u001b[39;00m\n\u001b[32m--> \u001b[39m\u001b[32m980\u001b[39m     \u001b[38;5;28;01mraise\u001b[39;00m RequestsJSONDecodeError(e.msg, e.doc, e.pos)\n",
      "\u001b[31mJSONDecodeError\u001b[39m: Expecting value: line 1 column 1 (char 0)"
     ]
    }
   ],
   "source": [
    "# Fetching from each API\n",
    "df_daily = fetch_daily_data(\"aapl\", \"2025-06-01\", \"2025-06-20\", source=\"tiingo\")\n",
    "df_daily.head()\n",
    "\n",
    "# df_intraday = fetch_intraday_data(\"AAPL\", \"2025-06-01\", \"2025-06-20\", source=\"tiingo\")\n",
    "# df_intraday.head()"
   ]
  },
  {
   "cell_type": "code",
   "execution_count": null,
   "id": "83648b1f",
   "metadata": {},
   "outputs": [],
   "source": [
    "# Plottings df.set_index(\\\"date\\\")[[\\\"close\\\"]].plot(title=\\\"AAPL Daily Close\\\")\n",
    "# Create a figure with 2 subplots (share the x-axis)\n",
    "fig, (ax_price, ax_vol) = plt.subplots(\n",
    "    2, 1, figsize=(12, 8), \n",
    "    gridspec_kw={'height_ratios': [3, 1]}, \n",
    "    sharex=True\n",
    ")\n",
    "\n",
    "# ---- Plot Candlestick ----\n",
    "for date, row in df_daily.iterrows():\n",
    "    o, h, l, c = row[\"open\"], row[\"high\"], row[\"low\"], row[\"close\"]\n",
    "\n",
    "    color = \"green\" if c >= o else \"red\"\n",
    "\n",
    "    # Wick\n",
    "    ax_price.plot([date, date], [l, h], color=\"black\", linewidth=1)\n",
    "    # Body\n",
    "    ax_price.plot([date, date], [o, c], color=color, linewidth=4)\n",
    "\n",
    "# ---- Plot Volume ----\n",
    "ax_vol.bar(df_daily.index, df_daily[\"volume\"], color=\"blue\", alpha=0.3)\n",
    "\n",
    "# ---- Format X-axis ----\n",
    "ax_vol.xaxis.set_major_formatter(mdates.DateFormatter(\"%Y-%m-%d\"))\n",
    "ax_vol.xaxis.set_major_locator(mdates.AutoDateLocator())\n",
    "plt.xticks(rotation=45)\n",
    "\n",
    "# Labels and Grid\n",
    "ax_price.set(title=\"Candlestick Chart with Volume\", ylabel=\"Price\")\n",
    "ax_vol.set(xlabel=\"Date\", ylabel=\"Volume\")\n",
    "ax_price.grid(True)\n",
    "ax_vol.grid(True)\n",
    "\n",
    "plt.show()"
   ]
  }
 ],
 "metadata": {
  "kernelspec": {
   "display_name": ".venv",
   "language": "python",
   "name": "python3"
  },
  "language_info": {
   "codemirror_mode": {
    "name": "ipython",
    "version": 3
   },
   "file_extension": ".py",
   "mimetype": "text/x-python",
   "name": "python",
   "nbconvert_exporter": "python",
   "pygments_lexer": "ipython3",
   "version": "3.12.3"
  }
 },
 "nbformat": 4,
 "nbformat_minor": 5
}
