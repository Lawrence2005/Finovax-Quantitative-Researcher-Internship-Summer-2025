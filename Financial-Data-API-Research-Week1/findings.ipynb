{
 "cells": [
  {
   "cell_type": "markdown",
   "id": "4b640b5b",
   "metadata": {},
   "source": [
    "## 📝 Free/Freemium API Provider Comparison\n",
    "| Provider        | Data Completeness         | Data Depth               | Data Freshness           | Rate Limits         | Python SDK             | Documentation Quality & Community Support | Notes          |\n",
    "|:---------------:|:-------------------------:|-------------------------:|:------------------------:|:-------------------:|:----------------------:|:-----------------------------------------:|:--------------:|\n",
    "| Alpha Vantage   | ...                       | Deep                     | ✅  Often delayed        | 5/min, 500/day      | ✅                    | ...                                       | ...            |\n",
    "| Tiingo          | ...                       | Medium                   | ✅  Up-to-date           | ~500 symbols/day    | ✅                    | ...                                       | ...            |\n",
    "| IEX Cloud/iexfinance | ...                  | ...                      | ...                      | ...                 | ...                    | ...                                       | ...            |\n",
    "| Twelve Data     | ...                       | ...                      | ...                      | ...                 | ...                    | ...                                       | ...            |\n",
    "| Google Finance  | ...                       |  ...                     | ...                      | ...                 | ...                    | ...                                       | ...            |\n",
    "| Polygon.io      | ...                       | ...                      | ...                      | ...                 | ...                    | ...                                       | ...            |\n",
    "| ....            | ...                       | ...                      | ...                      | ...                 | ...                    | ...                                       | ...            |\n",
    "| ....            | ...                       | ...                      | ...                      | ...                 | ...                    | ...                                       | ...            |\n",
    "| ....            | ...                       | ...                      | ...                      | ...                 | ...                    | ...                                       | ...            |\n",
    "| ....            | ...                       | ...                      | ...                      | ...                 | ...                    | ...                                       | ...            |\n",
    "\n",
    "| Provider              |  Pros                                                                                     | Cons                                                                                      |\n",
    "|:---------------------:|:-----------------------------------------------------------------------------------------:|:-----------------------------------------------------------------------------------------:|\n",
    "| Alpha Vantage         | Free API key; Good documentation; Simple alphavantage Python SDK.                         | 5 calls/min, 500 calls/day (free tier); Delays in data refresh; No intraday data on free  |\n",
    "| Tiingo                | Free tier includes end-of-day data; Good coverage, adjusted data available; tiingo Python client available. | Requires registration and API key; Limited to ~500 daily symbols.       |\n",
    "| ...                   | ...                                                                                       | ...                                                                                       |\n",
    "| ...                   | ...                                                                                       | ...                                                                                       |\n",
    "| ...                   | ...                                                                                       | ...                                                                                       |\n",
    "| ...                   | ...                                                                                       | ...                                                                                       |\n",
    "| ...                   | ...                                                                                       | ...                                                                                       |\n",
    "\n",
    "### ✅ API Shortlist\n",
    "Based on the evaluation, **....** is the most suitable candidate for production use because\n",
    "- a.\n",
    "- b.\n",
    "\n",
    "**....** may serve as a secondary backup because\n",
    "- a.\n",
    "- b.\n",
    "\n",
    "**....** is also useful because\n",
    "- a.\n",
    "- b.\n",
    "\n",
    "Data Fields: Does it provide OHLC, adjusted close, and volume?\n",
    "Data Coverage: How far back does the historical data go? Is it up-to-date?\n",
    "Rate Limits: Free-tier request limits per minute/day.\n",
    "Ease of Use: Python SDK availability, ease of authentication.\n",
    "Docs & Support: Quality of documentation and community examples.\n",
    "Reliability: Are there known issues like downtime or staleness?"
   ]
  },
  {
   "cell_type": "code",
   "execution_count": null,
   "id": "c4e6ccb0",
   "metadata": {},
   "outputs": [],
   "source": [
    "# 🚀 Import and Setup\n",
    "import pandas as pd\n",
    "import matplotlib.pyplot as plt  # or plotly\n",
    "from main import fetch_daily_data"
   ]
  },
  {
   "cell_type": "code",
   "execution_count": null,
   "id": "262220f4",
   "metadata": {},
   "outputs": [],
   "source": [
    "# 📦 Try fetching from each API\n",
    "df = fetch_daily_data(\"AAPL\", \"2023-01-01\", \"2023-12-31\", source=\"tiingo\")\n",
    "df.head()"
   ]
  },
  {
   "cell_type": "code",
   "execution_count": null,
   "id": "83648b1f",
   "metadata": {},
   "outputs": [],
   "source": [
    "# 📈 Visualizations\n",
    "# Show OHLC candlestick for a ticker.\n",
    "# Plot volume alongside price.\n",
    "df.set_index(\"date\")[[\"close\"]].plot(title=\"AAPL Daily Close\")"
   ]
  },
  {
   "cell_type": "markdown",
   "id": "6946ad64",
   "metadata": {},
   "source": [
    "## 🔍 Bonus: Intraday (1-minute) Data Exploration\n",
    "Check each shortlisted provider for:\n",
    "- (Free) Access to 1-minute historical data (at least for the past 5 trading days). How to access?\n",
    "- Whether data is real-time or delayed.\n",
    "- Whether intraday feeds data requires additional setup (e.g. paid plan/elevated permissions) or rate-limit considerations.\n",
    "Code snippets (optional)"
   ]
  }
 ],
 "metadata": {
  "language_info": {
   "name": "python"
  }
 },
 "nbformat": 4,
 "nbformat_minor": 5
}
