{
 "cells": [
  {
   "cell_type": "markdown",
   "id": "893d290b",
   "metadata": {},
   "source": [
    "## 👨🏻‍💻 Stock Technical Analysis Framework"
   ]
  },
  {
   "cell_type": "markdown",
   "id": "9a1f4aad",
   "metadata": {},
   "source": [
    "### 📥 Setups"
   ]
  },
  {
   "cell_type": "markdown",
   "id": "1fc94bbe",
   "metadata": {},
   "source": [
    "Installation and Import of required packages"
   ]
  },
  {
   "cell_type": "code",
   "execution_count": 247,
   "id": "48df3295",
   "metadata": {},
   "outputs": [],
   "source": [
    "# !pip install -r requirements.txt"
   ]
  },
  {
   "cell_type": "code",
   "execution_count": 248,
   "id": "e4ff9961",
   "metadata": {},
   "outputs": [],
   "source": [
    "import yfinance as yf\n",
    "import backtrader as bt\n",
    "\n",
    "import pandas as pd\n",
    "import numpy as np\n",
    "\n",
    "import plotly.graph_objects as go\n",
    "from plotly.subplots import make_subplots"
   ]
  },
  {
   "cell_type": "markdown",
   "id": "3ea7615e",
   "metadata": {},
   "source": [
    "Initialization of Analysis Parameters"
   ]
  },
  {
   "cell_type": "code",
   "execution_count": null,
   "id": "04db567e",
   "metadata": {},
   "outputs": [],
   "source": [
    "TICKER: str = 'AAPL'\n",
    "\n",
    "START_DATE: str = '2019-01-01'\n",
    "END_DATE: str = '2025-07-25'\n",
    "\n",
    "# Organized lists of indicators for plotting\n",
    "PRICES_IND: list[str] = ['sma', 'ema', 'dema', 'wma', 'hma', 'bb_upper', 'bb_middle', 'bb_lower', 'keltner_upper', 'keltner_lower', 'donchian_upper', 'donchian_middle', 'donchian_lower', 'vwap']\n",
    "TREND_IND: list[str] = ['macd', 'macd_signal', 'macd_hist', 'adx', 'aroon_up', 'aroon_down', 'dpo', 'ichimoku_senkou_span_a', 'ichimoku_senkou_span_b', 'ichimoku_kijun_sen', 'ichimoku_tenkan_sen']\n",
    "MOMENTUM_IND_1: list[str] = ['rsi', 'stoch_k', 'stoch_d', 'stoch_rsi', 'williams_r']\n",
    "MOMENTUM_IND_2: list[str] = ['cci', 'mfi', 'roc', 'momentum', 'kst', 'uo']\n",
    "VOLUME_IND_1: list[str] = ['obv', 'cmf', 'adline', 'force_index', 'vroc']\n",
    "VOLUME_IND_2: list[str] = ['volosc', 'eom', 'nvi', 'pvi']\n",
    "VOLATILITY_IND_1: list[str] = ['atr', 'natr', 'chaikin_vol', 'hist_vol', 'ui']\n",
    "VOLATILITY_IND_2: list[str] = ['bb_wdith', 'variance']"
   ]
  },
  {
   "cell_type": "markdown",
   "id": "58e9121b",
   "metadata": {},
   "source": [
    "### 🏗️ Data Acquisition"
   ]
  },
  {
   "cell_type": "markdown",
   "id": "b1602a5b",
   "metadata": {},
   "source": [
    "Function for fetching stock OHCLV data"
   ]
  },
  {
   "cell_type": "code",
   "execution_count": 250,
   "id": "a425522e",
   "metadata": {},
   "outputs": [],
   "source": [
    "def fetch_price_data(ticker: str = TICKER, start: str = START_DATE, end: str = END_DATE) -> pd.DataFrame:\n",
    "    \"\"\"\n",
    "    Fetches financial data from Yahoo Finance API for given tickers and date range.\n",
    "    \n",
    "    Parameters:\n",
    "        tickers (list[str]): U.S. equity ticker symbols (Default to AAPL)\n",
    "        start_date (str): Start date in 'YYYY-MM-DD' format (Default to 2019-01-01)\n",
    "        end_date (str): End date in 'YYYY-MM-DD' format (Default to 2025-07-25)\n",
    "\n",
    "    Returns:\n",
    "        dict[str, pd.DataFrame]: Dictionary of DataFrames with date-indexed adjusted OHCLV + Log Return data\n",
    "    \"\"\"\n",
    "    \n",
    "    data = yf.download(ticker, start=start, end=end, auto_adjust=True)\n",
    "    data.columns = ['Close', 'High', 'Low', 'Open', 'Volume']\n",
    "\n",
    "    data['LogReturn'] = np.log(data['Close'] / data['Close'].shift(1))\n",
    "    data.dropna(inplace=True)\n",
    "\n",
    "    return data"
   ]
  },
  {
   "cell_type": "markdown",
   "id": "cfc18d91",
   "metadata": {},
   "source": [
    "The indicators will be split into 4 catgories, volume, volatility, momentum, and trend. The lists of specific indicators are as follows.\n",
    "- Volume: Gauges <ins>strength of price movement</ins>.\n",
    "\n",
    "| Indicator                         |                                                                                       Description                                                                                                         |\n",
    "|:---------------------------------:|:---------------------------------------------------------------------------------------------------------------------------------------------------------------------------------------------------------:|\n",
    "| Volume Rate of Change (VROC) | Rate at which volume changes over time. Useful for identifying increasing trading activity that may precede price moves. |\n",
    "| On Balance Volume (OBV) | Cumulative volume that adds volume on up days and subtracts on down days. Useful for confirming price trends. |\n",
    "| Volume Weighted Average Price (VWAP) | Average price weighted by volume throughout the day. Useful for judging fair value. |\n",
    "| Negative Volume Index (NVI) | Running total of price changes on days with decreasing volume, assuming smart money trades on low volume. |\n",
    "| Positive Volume Index (PVI) | Running total of price changes on days with increasing volume, assuming retail trading dominates high-volume days. |\n",
    "| Volume Oscillator (VolumeOsc) | Difference between short and long-term volume moving averages. Useful for identifying volume surges or drying activity. |\n",
    "| Ease of Movement (EoM) | Quotient between price distance moved and volume. Useful for assessing the strength of a trend (how easily price moves). |\n",
    "| Force Index (ForceIndex) | Product of closing price difference and traving volume to measure buying/selling pressure. Positive——bullish; Negative——bearish. |\n",
    "| Chaikin Money Flow (CMF)  | Quotient between sum of intraday price movements and sum of volumes to measure accumulation and dsitribution. Positive——bullish; Negative——bearish. |\n",
    "| Accumulation/Distribution Line (ADLine) | Cumulative volume that multiplies by prive movement. Rising——bullish; Falling——bearish; Divergence——reversal |\n",
    "\n",
    "---\n",
    "- Volatility: Measures the <ins>degree of price variation</ins> over time.\n",
    "\n",
    "| Indicator                         |                                                                                       Description                                                                                                         |\n",
    "|:---------------------------------:|:---------------------------------------------------------------------------------------------------------------------------------------------------------------------------------------------------------:|\n",
    "| Historical Volatility (HistVolatility) | Standard deviation of price returns over a specified period. Higher values indicate more risk. |\n",
    "| Chaikin Volatility (ChaikinVolatility) | Percentage change in spread between high and low prices. Useful for revealing momentum shifts. |\n",
    "| Ulcer Index (UI) | Standard deviation of drawdowns to quantify downside risk. Useful for risk-aversing. |\n",
    "| Variance Indicator (Variance) | Dispersion of price returns. |\n",
    "| Average True Range (ATR) | Average price range of an investment over a period. |\n",
    "| Normalized ATR (NATR) | ATR scaled to percentage of current price, allowing volatility comparison across assets. |\n",
    "| Bollinger Bands (BollingerBands) | A moving average and bands at ±2 standard deviations. Useful for detecting overbought/oversold levels. |\n",
    "| Width of Bollinger Bands (BBWidth) | Distance between upper and lower Bollinger Bands. High width——high volatility. |\n",
    "| Donchian Channel (DonchianChannel) | Highest high and lowest low over a period. Useful for identifying breakouts. |\n",
    "| Keltner Channel (KeltnerChannel) | A moving average and bands at ±2 ATR. Useful for assessing volatility. |\n",
    "\n",
    "---\n",
    "- Momentum: Measures the <ins>speed of price movement</ins>, useful for identifying overbought/oversold conditions.\n",
    "\n",
    "| Indicator                         |                                                                                       Description                                                                                                         |\n",
    "|:---------------------------------:|:---------------------------------------------------------------------------------------------------------------------------------------------------------------------------------------------------------:|\n",
    "| Relative Strength Index (RSI) | Ratio of average gain to average loss, scaled 0–100. 70——overbought； 30——oversold. |\n",
    "| Commodity Channel Index (CCI) | Deviation of a price from a moving average. 100——overbought; -100——oversold. |\n",
    "| Money Flow Index (MFI) | RSI with volume. Useful for identifying money flow into/out of asset. |\n",
    "| Ultimate Oscillator (UltimateOscillator) | Buying pressure over ATR racross multiple timeframes to reduce false signals. |\n",
    "| Stochastic Oscillator (Stochastic) | Quotient of difference between close and low and price range over a period. 80——overbought 20——oversold. |\n",
    "| Stochastic RSI (StochRSI) | Quotient of difference between RSI and lowest RSI and RSI range over a period. Useful for pinpointing reversals. |\n",
    "| Rate of Change (ROC) | % change in price between current and past periods. Useful for spotting inflection points. |\n",
    "| KnowSureThing (KST) | Weighted sum of ROC values at different intervals. Useful for identifying cycles in price movement. |\n",
    "| Williams %R (WilliamsR) | Quotient of difference between highest high and close and high-low range over a period, scaled 0–-100. -20——overbought -80——oversold. |\n",
    "| Momentum Indicator (Momentum) | Velocity of price. Useful for identifying trend continuation or reversal. |\n",
    "\n",
    "---\n",
    "- Trend: Shows the <ins>direction and strength of price movement</ins>.\n",
    "\n",
    "| Indicator                         |                                                                                       Description                                                                                                         |\n",
    "|:---------------------------------:|:---------------------------------------------------------------------------------------------------------------------------------------------------------------------------------------------------------:|\n",
    "| Simple Moving Average (SMA) | Average closing price over a period. |\n",
    "| Exponential Moving Average (EMA) | SMA but weights recent prices more. Faster to adapt to changes. |\n",
    "| Double Exponential Moving Average (DEMA) | EMA of EMA to reduce lag. |\n",
    "| Weighted Moving Average (WMA) | Weighted SMA where recent prices matter most. |\n",
    "| Hull Moving Average (HMA) | WMA of weighted difference between short and long period WMA. Attempts to reduce lag while maintaining smoothness. |\n",
    "| Moving Average Convergence Divergence (MACD) | EMAs of different periods to track momentum and trend. Includes MACD line, signal line, and histogram. |\n",
    "| Detrended Price Oscillator (DPO) | SMA of half a period ago. Useful for identifying short-term cycles. |\n",
    "| Average Directional Index (ADX) | Ratio of high and low price moves to measure trend strength, scaled to 0-100. 25——trend; 20——neutral. |\n",
    "| Aroon Indicator (AroonUp/AroonDown) | Number of days since highest high or lowest low, scaled to 0-100. Extreme value——trend. |\n",
    "| Ichimoku Cloud (Ichimoku) | Central price level over various periods stacked at different timeframes to show trend, support/resistance, and momentum in one view. Price above cloud——bullish; Price below cloud——bearish. |"
   ]
  },
  {
   "cell_type": "markdown",
   "id": "5b177ce4",
   "metadata": {},
   "source": [
    "Class for feeding data"
   ]
  },
  {
   "cell_type": "code",
   "execution_count": 251,
   "id": "3f19f9a8",
   "metadata": {},
   "outputs": [],
   "source": [
    "class PandasData(bt.feeds.PandasData):\n",
    "    \"\"\"\n",
    "    Custom Backtrader Data Feed that supports OHLCV + LogReturn column.\n",
    "    \"\"\"\n",
    "    \n",
    "    lines = ('logreturn',)\n",
    "    params = (('datetime', None), ('open', 'Open'), ('high', 'High'), ('low', 'Low'), ('close', 'Close'), ('volume', 'Volume'), ('logreturn', 'LogReturn'), ('openinterest', None))  # Parameters to convert to Backtrader datafeed"
   ]
  },
  {
   "cell_type": "markdown",
   "id": "25bcaded",
   "metadata": {},
   "source": [
    "Classes for some non-built-in technical indicators"
   ]
  },
  {
   "cell_type": "code",
   "execution_count": 252,
   "id": "50368917",
   "metadata": {},
   "outputs": [],
   "source": [
    "class MFI(bt.Indicator):\n",
    "    \"\"\"\n",
    "    Money Flow Index (MFI)\n",
    "\n",
    "    Params:\n",
    "        period (int): The number of periods to use in calculation (default: 14)\n",
    "\n",
    "    Output:\n",
    "        mfi (line): Money Flow Index values\n",
    "    \"\"\"\n",
    "        \n",
    "    lines = ('mfi',)\n",
    "    params = dict(period=14)\n",
    "\n",
    "    alias = ('MoneyFlowIndicator',)\n",
    "\n",
    "    def __init__(self):\n",
    "        tprice = (self.data.close + self.data.low + self.data.high) / 3.0\n",
    "        mfraw = tprice * self.data.volume\n",
    "\n",
    "        flowpos = bt.ind.SumN(mfraw * (tprice > tprice(-1)), period=self.p.period)\n",
    "        flowneg = bt.ind.SumN(mfraw * (tprice < tprice(-1)), period=self.p.period)\n",
    "\n",
    "        mfiratio = bt.ind.DivByZero(flowpos, flowneg, zero=100.0)\n",
    "        self.l.mfi = 100.0 - 100.0 / (1.0 + mfiratio)\n",
    "\n",
    "class DonchianChannels(bt.Indicator):\n",
    "    \"\"\"\n",
    "    Donchian Channels\n",
    "\n",
    "    Params:\n",
    "        period (int): Lookback period (default: 20)\n",
    "        lookback (int): -1 to exclude current bar, 0 to include current (default: -1)\n",
    "\n",
    "    Output:\n",
    "        dch (line): Upper band (max high)\n",
    "        dcl (line): Lower band (min low)\n",
    "        dcm (line): Midline (average of dch and dcl)\n",
    "    \"\"\"\n",
    "\n",
    "    alias = ('DCH', 'DonchianChannel',)\n",
    "\n",
    "    lines = ('dcm', 'dch', 'dcl',)  # dc middle, dc high, dc low\n",
    "    params = dict(\n",
    "        period=20,\n",
    "        lookback=-1,  # consider current bar or not\n",
    "    )\n",
    "\n",
    "    plotinfo = dict(subplot=False)  # plot along with data\n",
    "    plotlines = dict(\n",
    "        dcm=dict(ls='--'),  # dashed line\n",
    "        dch=dict(_samecolor=True),  # use same color as prev line (dcm)\n",
    "        dcl=dict(_samecolor=True),  # use same color as prev line (dch)\n",
    "    )\n",
    "\n",
    "    def __init__(self):\n",
    "        hi, lo = self.data.high, self.data.low\n",
    "        if self.p.lookback:  # move backwards as needed\n",
    "            hi, lo = hi(self.p.lookback), lo(self.p.lookback)\n",
    "\n",
    "        self.l.dch = bt.ind.Highest(hi, period=self.p.period)\n",
    "        self.l.dcl = bt.ind.Lowest(lo, period=self.p.period)\n",
    "        self.l.dcm = (self.l.dch + self.l.dcl) / 2.0  # avg of the above\n",
    "\n",
    "class Variance(bt.Indicator):\n",
    "    \"\"\"\n",
    "    Rolling Variance\n",
    "\n",
    "    Params:\n",
    "        period (int): Lookback window for calculating the variance\n",
    "\n",
    "    Output:\n",
    "        variance (line): Rolling variance value\n",
    "    \"\"\"\n",
    "\n",
    "    lines = ('variance',)\n",
    "    params = (('period', 20),)\n",
    "\n",
    "    def __init__(self):\n",
    "        mean = bt.ind.SimpleMovingAverage(self.data, period=self.p.period)\n",
    "        self.lines.variance = bt.ind.SumN((self.data - mean) ** 2, period=self.p.period) / self.p.period\n",
    "\n",
    "class OBV(bt.Indicator):\n",
    "    \"\"\"\n",
    "    On-Balance Volume (OBV)\n",
    "\n",
    "    Output:\n",
    "        obv (line): OBV value\n",
    "    \"\"\"\n",
    " \n",
    "    lines = ('obv',)\n",
    "    params = ()\n",
    "\n",
    "    def __init__(self):\n",
    "        self.addminperiod(1)\n",
    "\n",
    "    def next(self):\n",
    "        if len(self) == 1:\n",
    "            self.lines.obv[0] = self.data.volume[0]  # Init with first volume\n",
    "        else:\n",
    "            if self.data.close[0] > self.data.close[-1]:\n",
    "                self.lines.obv[0] = self.lines.obv[-1] + self.data.volume[0]\n",
    "            elif self.data.close[0] < self.data.close[-1]:\n",
    "                self.lines.obv[0] = self.lines.obv[-1] - self.data.volume[0]\n",
    "            else:\n",
    "                self.lines.obv[0] = self.lines.obv[-1]\n",
    "\n",
    "class VWAP(bt.Indicator):\n",
    "    \"\"\"\n",
    "    Volume Weighted Average Price (VWAP)\n",
    "\n",
    "    Output:\n",
    "        vwap (line): VWAP value\n",
    "    \"\"\"\n",
    "\n",
    "    lines = ('vwap',)\n",
    "\n",
    "    def __init__(self):\n",
    "        typical_price = (self.data.high + self.data.low + self.data.close) / 3\n",
    "        cum_pv = bt.ind.SumN(typical_price * self.data.volume)\n",
    "        cum_vol = bt.ind.SumN(self.data.volume)\n",
    "        self.lines.vwap = cum_pv / cum_vol\n",
    "\n",
    "class VI(bt.Indicator):\n",
    "    \"\"\"\n",
    "    Volume Index (Positive or Negative)\n",
    "\n",
    "    Params:\n",
    "        mode (str): 'pvi' for Positive Volume Index, 'nvi' for Negative Volume Index\n",
    "        initial (float): Starting value of index (default: 1000)\n",
    "\n",
    "    Output:\n",
    "        vi (line): Volume Index\n",
    "    \"\"\"\n",
    "\n",
    "    lines = ('vi',)\n",
    "    params = (\n",
    "        ('mode', 'pvi'),  # 'pvi' or 'nvi'\n",
    "        ('initial', 1000.0),\n",
    "    )\n",
    "\n",
    "    def __init__(self):\n",
    "        self.addminperiod(1)\n",
    "\n",
    "    def next(self):\n",
    "        if len(self) == 1:\n",
    "            self.lines.vi[0] = self.p.initial\n",
    "            return\n",
    "\n",
    "        # Choose mode logic\n",
    "        vol_up = self.data.volume[0] > self.data.volume[-1]\n",
    "        vol_down = self.data.volume[0] < self.data.volume[-1]\n",
    "\n",
    "        if (self.p.mode == 'nvi' and vol_down) or (self.p.mode == 'pvi' and vol_up):\n",
    "            change = (self.data.close[0] - self.data.close[-1]) / self.data.close[-1]\n",
    "            self.lines.vi[0] = self.lines.vi[-1] * (1 + change)\n",
    "        else:\n",
    "            self.lines.vi[0] = self.lines.vi[-1]\n",
    "\n",
    "class EOM(bt.Indicator):\n",
    "    \"\"\"\n",
    "    Ease of Movement (EoM)\n",
    "\n",
    "    Output:\n",
    "        eom (line): Smoothed Ease of Movement value\n",
    "    \"\"\"\n",
    "\n",
    "    lines = ('eom',)\n",
    "    params = dict(period=14, vol_scale_period=20)\n",
    "\n",
    "    def __init__(self):\n",
    "        self.addminperiod(max(self.p.period, self.p.vol_scale_period) + 1)\n",
    "\n",
    "        # Calculate midpoints and price distance\n",
    "        mid = (self.data.high + self.data.low) / 2\n",
    "        mid_prev = mid(-1)\n",
    "        distance = mid - mid_prev\n",
    "\n",
    "        # Calculate box ratio with dynamic volume scaling\n",
    "        spread = self.data.high - self.data.low + 1e-10  # avoid divide-by-zero\n",
    "        vol_scale = bt.ind.SMA(self.data.volume, period=self.p.vol_scale_period)\n",
    "        box_ratio = self.data.volume / (vol_scale * spread)\n",
    "\n",
    "        # Raw EoM\n",
    "        eom_raw = distance / box_ratio\n",
    "\n",
    "        # Smoothed EoM\n",
    "        self.lines.eom = bt.ind.SMA(eom_raw, period=self.p.period)\n",
    "\n",
    "class FI(bt.Indicator):\n",
    "    \"\"\"\n",
    "    Force Index (FI)\n",
    "\n",
    "    Output:\n",
    "        force (line): Force Index value\n",
    "    \"\"\"\n",
    "\n",
    "    lines = ('force',)\n",
    "\n",
    "    def __init__(self):\n",
    "        self.addminperiod(2)\n",
    "        self.lines.force = (self.data.close - self.data.close(-1)) * self.data.volume"
   ]
  },
  {
   "cell_type": "code",
   "execution_count": 253,
   "id": "9fb8248e",
   "metadata": {},
   "outputs": [],
   "source": [
    "class IndicatorStrategy(bt.Strategy):\n",
    "    \"\"\"\n",
    "    A Backtrader strategy that computes and stores a wide range of technical indicators spanning trend, momentum, volatility, and volume dimensions.\n",
    "    \"\"\"\n",
    "\n",
    "    def __init__(self):\n",
    "        \"\"\"\n",
    "        Initializes the IndicatorStrategy by constructing a comprehensive suite of technical indicators.\n",
    "        \"\"\"\n",
    "        self.full_data = []\n",
    "\n",
    "        # Trend\n",
    "        self.sma = bt.ind.SMA(self.data.close, period=20)\n",
    "        self.ema = bt.ind.EMA(self.data.close, period=20)\n",
    "        self.dema = bt.ind.DEMA(self.data.close, period=20)\n",
    "        self.wma = bt.ind.WMA(self.data.close, period=20)\n",
    "        self.hma = bt.ind.HullMovingAverage(self.data.close, period=16)\n",
    "        self.macd = bt.ind.MACD(self.data.close)\n",
    "        self.dpo = bt.ind.DPO(self.data.close)\n",
    "        self.adx = bt.ind.ADX(self.data)\n",
    "        self.aroon = bt.ind.AroonIndicator(self.data, period=14)\n",
    "        self.ichimoku = bt.ind.Ichimoku()\n",
    "        \n",
    "        # Momentum\n",
    "        self.rsi = bt.ind.RSI(self.data.close, period=14)\n",
    "        self.cci = bt.ind.CCI(self.data, period=20)\n",
    "        self.mfi = MFI(self.data, period=14)\n",
    "        self.uo = bt.ind.UltimateOscillator(self.data)\n",
    "        self.kst = bt.ind.KST(self.data.close)\n",
    "        self.stoch = bt.ind.Stochastic(self.data)\n",
    "        self.stoch_rsi = (self.rsi - bt.ind.Lowest(self.rsi, period=14)) / (bt.ind.Highest(self.rsi, period=14) - bt.ind.Lowest(self.rsi, period=14))\n",
    "        self.roc = bt.ind.RateOfChange(self.data.close, period=14)\n",
    "        self.williams_r = bt.ind.WilliamsR(self.data)\n",
    "        self.momentum = bt.ind.Momentum(self.data.close, period=14)\n",
    "        \n",
    "        # Volatility\n",
    "        ema_hl = bt.ind.EMA(self.data.high - self.data.low, period=10)\n",
    "        drawdown = (self.data.close - bt.ind.Highest(self.data.close, period=14)) / bt.ind.Highest(self.data.close, period=14)\n",
    "\n",
    "        self.hist_vol = bt.ind.StdDev(self.data.logreturn, period=20) * (252 ** 0.5)\n",
    "        self.chaikin_vol = (ema_hl - ema_hl(-10)) / ema_hl(-10)\n",
    "        self.ui = bt.ind.StdDev(drawdown, period=14)\n",
    "        self.variance = Variance(self.data.close, period=20)\n",
    "        self.atr = bt.ind.ATR(self.data, period=14)\n",
    "        self.natr = (self.atr / self.data.close) * 100\n",
    "        self.bbands = bt.ind.BollingerBands(self.data.close, period=20, devfactor=2)\n",
    "        self.bbwidth = (self.bbands.top - self.bbands.bot) / self.bbands.mid * 100\n",
    "        self.donchian = DonchianChannels(self.data, period=20)\n",
    "        self.keltner_upper = self.ema + 2 * self.atr\n",
    "        self.keltner_lower = self.ema - 2 * self.atr\n",
    "        \n",
    "        # Volume\n",
    "        short_ema = bt.ind.EMA(self.data.volume, period=14)\n",
    "        long_ema = bt.ind.EMA(self.data.volume, period=28)\n",
    "        mfm = ((self.data.close - self.data.low) - (self.data.high - self.data.close)) / (self.data.high - self.data.low)\n",
    "\n",
    "        self.vroc = bt.ind.RateOfChange(self.data.volume, period=14)\n",
    "        self.obv = OBV(self.data)\n",
    "        self.vwap = VWAP(self.data)\n",
    "        self.nvi = VI(self.data, mode='nvi')\n",
    "        self.pvi = VI(self.data, mode='pvi')\n",
    "        self.volosc = 100 * (short_ema - long_ema) / long_ema\n",
    "        self.eom = EOM(period=14)  # smoothed EoM\n",
    "        self.force_index = FI(self.data)\n",
    "        self.cmf = bt.ind.SumN(mfm * self.data.volume, period=21) / bt.ind.SumN(self.data.volume, period=21)\n",
    "        self.adline = bt.indicators.Accum(bt.If(bt.And(self.data.high != self.data.low, self.data.volume != 0), mfm * self.data.volume, 0))\n",
    "    \n",
    "    def next(self):\n",
    "        \"\"\"\n",
    "        Appends a snapshot of all current indicator values to `self.full_data` at each time step.\n",
    "        \"\"\"\n",
    "        \n",
    "        self.full_data.append({\n",
    "            'datetime': self.data.datetime.datetime(0),\n",
    "\n",
    "            'sma': self.sma[0],\n",
    "            'ema': self.ema[0],\n",
    "            'dema': self.dema[0],\n",
    "            'wma': self.wma[0],\n",
    "            'hma': self.hma[0],\n",
    "            'macd': self.macd.macd[0],\n",
    "            'macd_signal': self.macd.signal[0],\n",
    "            'macd_hist': self.macd.macd[0]-self.macd.signal[0],\n",
    "            'dpo': self.dpo[0],\n",
    "            'adx': self.adx[0],\n",
    "            'aroon_up': self.aroon.aroonup[0],\n",
    "            'aroon_down': self.aroon.aroondown[0],\n",
    "            'ichimoku_senkou_span_a': self.ichimoku.senkou_span_a[0],\n",
    "            'ichimoku_senkou_span_b': self.ichimoku.senkou_span_b[0],\n",
    "            'ichimoku_kijun_sen': self.ichimoku.kijun_sen[0],\n",
    "            'ichimoku_tenkan_sen': self.ichimoku.tenkan_sen[0],\n",
    "\n",
    "            'rsi': self.rsi[0],\n",
    "            'cci': self.cci[0],\n",
    "            'mfi': self.mfi[0],\n",
    "            'uo': self.uo[0],\n",
    "            'kst': self.kst[0],\n",
    "            'stoch_k': self.stoch.percK[0],\n",
    "            'stoch_d': self.stoch.percD[0],\n",
    "            'stoch_rsi': self.stoch_rsi[0],\n",
    "            'roc': self.roc[0],\n",
    "            'williams_r': self.williams_r[0],\n",
    "            'momentum': self.momentum[0],\n",
    "\n",
    "            'hist_vol': self.hist_vol[0],\n",
    "            'chaikin_vol': self.chaikin_vol[0],\n",
    "            'ui': self.ui[0],\n",
    "            'variance': self.variance[0],\n",
    "            'atr': self.atr[0],\n",
    "            'natr': self.natr[0],\n",
    "            'bb_upper': self.bbands.top[0],\n",
    "            'bb_middle': self.bbands.mid[0],\n",
    "            'bb_lower': self.bbands.bot[0],\n",
    "            'bb_width': self.bbwidth[0],\n",
    "            'donchian_upper': self.donchian.dch[0],\n",
    "            'donchian_lower': self.donchian.dcl[0],\n",
    "            'donchian_middle': self.donchian.dcm[0],\n",
    "            'keltner_upper': self.keltner_upper[0],\n",
    "            'keltner_lower': self.keltner_lower[0],\n",
    "\n",
    "            'vroc': self.vroc[0],\n",
    "            'obv': self.obv[0],\n",
    "            'vwap': self.vwap[0],\n",
    "            'nvi': self.nvi[0],\n",
    "            'pvi': self.pvi[0],\n",
    "            'volosc': self.volosc[0],\n",
    "            'eom': self.eom[0],\n",
    "            'force_index': self.force_index[0],\n",
    "            'cmf': self.cmf[0],\n",
    "            'ad': self.adline[0]\n",
    "        })"
   ]
  },
  {
   "cell_type": "markdown",
   "id": "47a7116c",
   "metadata": {},
   "source": [
    "### 📈 Visualization"
   ]
  },
  {
   "cell_type": "markdown",
   "id": "fe01c60c",
   "metadata": {},
   "source": [
    "Function for plotting candlesticks and moving averages"
   ]
  },
  {
   "cell_type": "code",
   "execution_count": null,
   "id": "8ced7d45",
   "metadata": {},
   "outputs": [],
   "source": [
    "def plot_prices(df_prices: pd.DataFrame, df_indicators: pd.DataFrame, fig: go.Figure, row: int = 1 , col: int = 1) -> None:\n",
    "    \"\"\"\n",
    "    Adds traces for closing price and all moving averages to a specific subplot.\n",
    "\n",
    "    Parameters:\n",
    "        df_prices (pd.DataFrame): DataFrame containing OHCLV data.\n",
    "        df_indicators (pd.DataFrame): DataFrame containing moving average data.\n",
    "        fig (go.Figure): Plotly Figure object to which MACD traces will be added.\n",
    "        row (int): The row number of the subplot to add MACD-related plots to.\n",
    "        col (int): The column number of the subplot to add MACD-related plots to.\n",
    "    \"\"\"\n",
    "\n",
    "    # Candlestick\n",
    "    fig.add_trace(go.Candlestick(x=df_prices.index, open=df_prices['Open'], high=df_prices['High'], low=df_prices['Low'], close=df_prices['Close'], name=\"Candlestick\"), \n",
    "                  row=row, col=col)\n",
    "\n",
    "    # Moving Averages\n",
    "    ma_names = ['sma', 'ema', 'dema', 'wma', 'hma']\n",
    "    for ma_name in ma_names:\n",
    "        fig.add_trace(go.Scatter(\n",
    "            x=df_indicators.index,\n",
    "            y=df_indicators[ma_name],\n",
    "            mode='lines',\n",
    "            name=ma_name.upper(),\n",
    "            visible='legendonly' if ma_name != 'ema' else True # Only EMA visible initially\n",
    "        ), row=row, col=col)\n",
    "    \n",
    "    # VWAP\n",
    "    fig.add_trace(go.Bar(x=df_prices.index, y=df_indicators['vwap'], name='VWAP'), row=row, col=col)\n"
   ]
  },
  {
   "cell_type": "code",
   "execution_count": 267,
   "id": "bed3cae5",
   "metadata": {},
   "outputs": [],
   "source": [
    "def plot_volume(df_prices: pd.DataFrame, df_indicators: pd.DataFrame, fig: go.Figure, row: int = 2 , col: int = 1) -> None:\n",
    "    \"\"\"\n",
    "    Adds traces for volume and volume indicators to a specific subplot.\n",
    "\n",
    "    Parameters:\n",
    "        df_prices (pd.DataFrame): DataFrame containing OHCLV data.\n",
    "        df_indicators (pd.DataFrame): DataFrame containing moving average data.\n",
    "        fig (go.Figure): Plotly Figure object to which MACD traces will be added.\n",
    "        row (int): The row number of the subplot to add MACD-related plots to.\n",
    "        col (int): The column number of the subplot to add MACD-related plots to.\n",
    "    \"\"\"\n",
    "\n",
    "    fig.add_trace(go.Bar(x=df_prices.index, y=df_prices['Volume'], name='Volume'), row=row, col=col)\n",
    "\n",
    "    fig.add_trace(go.Scatter(x=df_indicators.index, y=df_indicators['obv'], mode='lines', name='OBV'), row=row, col=col)"
   ]
  },
  {
   "cell_type": "code",
   "execution_count": 268,
   "id": "2fe39072",
   "metadata": {},
   "outputs": [],
   "source": [
    "def plot_rsi(df: pd.DataFrame, fig: go.Figure, row: int = 4, col: int = 1) -> None:\n",
    "    \"\"\"\n",
    "    Adds line charts for MACD and MACD Signal, and a bar chart for MACD Histogram to a specific subplot row.\n",
    "\n",
    "    Parameters:\n",
    "        df (pd.DataFrame): DataFrame containing 'rsi' column.\n",
    "        fig (go.Figure): Plotly Figure object to which MACD traces will be added.\n",
    "        row (int): The row number of the subplot to add MACD-related plots to.\n",
    "        col (int): The column number of the subplot to add MACD-related plots to.\n",
    "    \"\"\"\n",
    "\n",
    "    fig.add_trace(go.Scatter(x=df.index, y=df['rsi'], mode='lines', name='RSI', line=dict(color='gold')), row=row, col=col)\n",
    "    fig.add_hline(y=70, line=dict(dash='dash', color='red'), row=row, col=col)\n",
    "    fig.add_hline(y=30, line=dict(dash='dash', color='blue'), row=row, col=col)"
   ]
  },
  {
   "cell_type": "code",
   "execution_count": 269,
   "id": "4470c6a3",
   "metadata": {},
   "outputs": [],
   "source": [
    "def plot_macd(df: pd.DataFrame, fig: go.Figure, row: int = 3, col: int = 1) -> None:\n",
    "    \"\"\"\n",
    "    Adds line charts for MACD and MACD Signal, and a bar chart for MACD Histogram to a specific subplot row.\n",
    "\n",
    "    Parameters:\n",
    "        df (pd.DataFrame): DataFrame containing 'macd', 'macd_signal', and 'macd_hist' columns.\n",
    "        fig (go.Figure): Plotly Figure object to which MACD traces will be added.\n",
    "        row (int): The row number of the subplot to add MACD-related plots to.\n",
    "        col (int): The column number of the subplot to add MACD-related plots to.\n",
    "    \"\"\"\n",
    "\n",
    "    fig.add_trace(\n",
    "        go.Scattergl(x=df.index, y=df['macd'], name='MACD', line=dict(color='blue')),\n",
    "        row=row, col=col\n",
    "    )\n",
    "    fig.add_trace(\n",
    "        go.Scattergl(x=df.index, y=df['macd_signal'], name='MACD Signal', line=dict(color='orange')),\n",
    "        row=row, col=col\n",
    "    )\n",
    "    fig.add_trace(\n",
    "        go.Bar(x=df.index, y=df['macd_hist'], name='MACD Hist', marker_color='purple'),\n",
    "        row=row, col=col\n",
    "    )"
   ]
  },
  {
   "cell_type": "code",
   "execution_count": 270,
   "id": "3ca3baf6",
   "metadata": {},
   "outputs": [
    {
     "name": "stderr",
     "output_type": "stream",
     "text": [
      "[*********************100%***********************]  1 of 1 completed\n"
     ]
    }
   ],
   "source": [
    "d = fetch_price_data()\n",
    "datafeed = PandasData(dataname=d)\n",
    "\n",
    "cerebro = bt.Cerebro()\n",
    "cerebro.addstrategy(IndicatorStrategy)\n",
    "cerebro.adddata(datafeed)\n",
    "results = cerebro.run()\n",
    "strategy = results[0]\n",
    "\n",
    "df = pd.DataFrame(strategy.full_data)\n",
    "df.set_index('datetime', inplace=True)"
   ]
  },
  {
   "cell_type": "code",
   "execution_count": 276,
   "id": "05837bee",
   "metadata": {},
   "outputs": [
    {
     "data": {
      "application/vnd.plotly.v1+json": {
       "config": {
        "plotlyServerURL": "https://plot.ly"
       },
       "data": [],
       "layout": {
        "height": 800,
        "template": {
         "data": {
          "bar": [
           {
            "error_x": {
             "color": "#2a3f5f"
            },
            "error_y": {
             "color": "#2a3f5f"
            },
            "marker": {
             "line": {
              "color": "white",
              "width": 0.5
             },
             "pattern": {
              "fillmode": "overlay",
              "size": 10,
              "solidity": 0.2
             }
            },
            "type": "bar"
           }
          ],
          "barpolar": [
           {
            "marker": {
             "line": {
              "color": "white",
              "width": 0.5
             },
             "pattern": {
              "fillmode": "overlay",
              "size": 10,
              "solidity": 0.2
             }
            },
            "type": "barpolar"
           }
          ],
          "carpet": [
           {
            "aaxis": {
             "endlinecolor": "#2a3f5f",
             "gridcolor": "#C8D4E3",
             "linecolor": "#C8D4E3",
             "minorgridcolor": "#C8D4E3",
             "startlinecolor": "#2a3f5f"
            },
            "baxis": {
             "endlinecolor": "#2a3f5f",
             "gridcolor": "#C8D4E3",
             "linecolor": "#C8D4E3",
             "minorgridcolor": "#C8D4E3",
             "startlinecolor": "#2a3f5f"
            },
            "type": "carpet"
           }
          ],
          "choropleth": [
           {
            "colorbar": {
             "outlinewidth": 0,
             "ticks": ""
            },
            "type": "choropleth"
           }
          ],
          "contour": [
           {
            "colorbar": {
             "outlinewidth": 0,
             "ticks": ""
            },
            "colorscale": [
             [
              0,
              "#0d0887"
             ],
             [
              0.1111111111111111,
              "#46039f"
             ],
             [
              0.2222222222222222,
              "#7201a8"
             ],
             [
              0.3333333333333333,
              "#9c179e"
             ],
             [
              0.4444444444444444,
              "#bd3786"
             ],
             [
              0.5555555555555556,
              "#d8576b"
             ],
             [
              0.6666666666666666,
              "#ed7953"
             ],
             [
              0.7777777777777778,
              "#fb9f3a"
             ],
             [
              0.8888888888888888,
              "#fdca26"
             ],
             [
              1,
              "#f0f921"
             ]
            ],
            "type": "contour"
           }
          ],
          "contourcarpet": [
           {
            "colorbar": {
             "outlinewidth": 0,
             "ticks": ""
            },
            "type": "contourcarpet"
           }
          ],
          "heatmap": [
           {
            "colorbar": {
             "outlinewidth": 0,
             "ticks": ""
            },
            "colorscale": [
             [
              0,
              "#0d0887"
             ],
             [
              0.1111111111111111,
              "#46039f"
             ],
             [
              0.2222222222222222,
              "#7201a8"
             ],
             [
              0.3333333333333333,
              "#9c179e"
             ],
             [
              0.4444444444444444,
              "#bd3786"
             ],
             [
              0.5555555555555556,
              "#d8576b"
             ],
             [
              0.6666666666666666,
              "#ed7953"
             ],
             [
              0.7777777777777778,
              "#fb9f3a"
             ],
             [
              0.8888888888888888,
              "#fdca26"
             ],
             [
              1,
              "#f0f921"
             ]
            ],
            "type": "heatmap"
           }
          ],
          "histogram": [
           {
            "marker": {
             "pattern": {
              "fillmode": "overlay",
              "size": 10,
              "solidity": 0.2
             }
            },
            "type": "histogram"
           }
          ],
          "histogram2d": [
           {
            "colorbar": {
             "outlinewidth": 0,
             "ticks": ""
            },
            "colorscale": [
             [
              0,
              "#0d0887"
             ],
             [
              0.1111111111111111,
              "#46039f"
             ],
             [
              0.2222222222222222,
              "#7201a8"
             ],
             [
              0.3333333333333333,
              "#9c179e"
             ],
             [
              0.4444444444444444,
              "#bd3786"
             ],
             [
              0.5555555555555556,
              "#d8576b"
             ],
             [
              0.6666666666666666,
              "#ed7953"
             ],
             [
              0.7777777777777778,
              "#fb9f3a"
             ],
             [
              0.8888888888888888,
              "#fdca26"
             ],
             [
              1,
              "#f0f921"
             ]
            ],
            "type": "histogram2d"
           }
          ],
          "histogram2dcontour": [
           {
            "colorbar": {
             "outlinewidth": 0,
             "ticks": ""
            },
            "colorscale": [
             [
              0,
              "#0d0887"
             ],
             [
              0.1111111111111111,
              "#46039f"
             ],
             [
              0.2222222222222222,
              "#7201a8"
             ],
             [
              0.3333333333333333,
              "#9c179e"
             ],
             [
              0.4444444444444444,
              "#bd3786"
             ],
             [
              0.5555555555555556,
              "#d8576b"
             ],
             [
              0.6666666666666666,
              "#ed7953"
             ],
             [
              0.7777777777777778,
              "#fb9f3a"
             ],
             [
              0.8888888888888888,
              "#fdca26"
             ],
             [
              1,
              "#f0f921"
             ]
            ],
            "type": "histogram2dcontour"
           }
          ],
          "mesh3d": [
           {
            "colorbar": {
             "outlinewidth": 0,
             "ticks": ""
            },
            "type": "mesh3d"
           }
          ],
          "parcoords": [
           {
            "line": {
             "colorbar": {
              "outlinewidth": 0,
              "ticks": ""
             }
            },
            "type": "parcoords"
           }
          ],
          "pie": [
           {
            "automargin": true,
            "type": "pie"
           }
          ],
          "scatter": [
           {
            "fillpattern": {
             "fillmode": "overlay",
             "size": 10,
             "solidity": 0.2
            },
            "type": "scatter"
           }
          ],
          "scatter3d": [
           {
            "line": {
             "colorbar": {
              "outlinewidth": 0,
              "ticks": ""
             }
            },
            "marker": {
             "colorbar": {
              "outlinewidth": 0,
              "ticks": ""
             }
            },
            "type": "scatter3d"
           }
          ],
          "scattercarpet": [
           {
            "marker": {
             "colorbar": {
              "outlinewidth": 0,
              "ticks": ""
             }
            },
            "type": "scattercarpet"
           }
          ],
          "scattergeo": [
           {
            "marker": {
             "colorbar": {
              "outlinewidth": 0,
              "ticks": ""
             }
            },
            "type": "scattergeo"
           }
          ],
          "scattergl": [
           {
            "marker": {
             "colorbar": {
              "outlinewidth": 0,
              "ticks": ""
             }
            },
            "type": "scattergl"
           }
          ],
          "scattermap": [
           {
            "marker": {
             "colorbar": {
              "outlinewidth": 0,
              "ticks": ""
             }
            },
            "type": "scattermap"
           }
          ],
          "scattermapbox": [
           {
            "marker": {
             "colorbar": {
              "outlinewidth": 0,
              "ticks": ""
             }
            },
            "type": "scattermapbox"
           }
          ],
          "scatterpolar": [
           {
            "marker": {
             "colorbar": {
              "outlinewidth": 0,
              "ticks": ""
             }
            },
            "type": "scatterpolar"
           }
          ],
          "scatterpolargl": [
           {
            "marker": {
             "colorbar": {
              "outlinewidth": 0,
              "ticks": ""
             }
            },
            "type": "scatterpolargl"
           }
          ],
          "scatterternary": [
           {
            "marker": {
             "colorbar": {
              "outlinewidth": 0,
              "ticks": ""
             }
            },
            "type": "scatterternary"
           }
          ],
          "surface": [
           {
            "colorbar": {
             "outlinewidth": 0,
             "ticks": ""
            },
            "colorscale": [
             [
              0,
              "#0d0887"
             ],
             [
              0.1111111111111111,
              "#46039f"
             ],
             [
              0.2222222222222222,
              "#7201a8"
             ],
             [
              0.3333333333333333,
              "#9c179e"
             ],
             [
              0.4444444444444444,
              "#bd3786"
             ],
             [
              0.5555555555555556,
              "#d8576b"
             ],
             [
              0.6666666666666666,
              "#ed7953"
             ],
             [
              0.7777777777777778,
              "#fb9f3a"
             ],
             [
              0.8888888888888888,
              "#fdca26"
             ],
             [
              1,
              "#f0f921"
             ]
            ],
            "type": "surface"
           }
          ],
          "table": [
           {
            "cells": {
             "fill": {
              "color": "#EBF0F8"
             },
             "line": {
              "color": "white"
             }
            },
            "header": {
             "fill": {
              "color": "#C8D4E3"
             },
             "line": {
              "color": "white"
             }
            },
            "type": "table"
           }
          ]
         },
         "layout": {
          "annotationdefaults": {
           "arrowcolor": "#2a3f5f",
           "arrowhead": 0,
           "arrowwidth": 1
          },
          "autotypenumbers": "strict",
          "coloraxis": {
           "colorbar": {
            "outlinewidth": 0,
            "ticks": ""
           }
          },
          "colorscale": {
           "diverging": [
            [
             0,
             "#8e0152"
            ],
            [
             0.1,
             "#c51b7d"
            ],
            [
             0.2,
             "#de77ae"
            ],
            [
             0.3,
             "#f1b6da"
            ],
            [
             0.4,
             "#fde0ef"
            ],
            [
             0.5,
             "#f7f7f7"
            ],
            [
             0.6,
             "#e6f5d0"
            ],
            [
             0.7,
             "#b8e186"
            ],
            [
             0.8,
             "#7fbc41"
            ],
            [
             0.9,
             "#4d9221"
            ],
            [
             1,
             "#276419"
            ]
           ],
           "sequential": [
            [
             0,
             "#0d0887"
            ],
            [
             0.1111111111111111,
             "#46039f"
            ],
            [
             0.2222222222222222,
             "#7201a8"
            ],
            [
             0.3333333333333333,
             "#9c179e"
            ],
            [
             0.4444444444444444,
             "#bd3786"
            ],
            [
             0.5555555555555556,
             "#d8576b"
            ],
            [
             0.6666666666666666,
             "#ed7953"
            ],
            [
             0.7777777777777778,
             "#fb9f3a"
            ],
            [
             0.8888888888888888,
             "#fdca26"
            ],
            [
             1,
             "#f0f921"
            ]
           ],
           "sequentialminus": [
            [
             0,
             "#0d0887"
            ],
            [
             0.1111111111111111,
             "#46039f"
            ],
            [
             0.2222222222222222,
             "#7201a8"
            ],
            [
             0.3333333333333333,
             "#9c179e"
            ],
            [
             0.4444444444444444,
             "#bd3786"
            ],
            [
             0.5555555555555556,
             "#d8576b"
            ],
            [
             0.6666666666666666,
             "#ed7953"
            ],
            [
             0.7777777777777778,
             "#fb9f3a"
            ],
            [
             0.8888888888888888,
             "#fdca26"
            ],
            [
             1,
             "#f0f921"
            ]
           ]
          },
          "colorway": [
           "#636efa",
           "#EF553B",
           "#00cc96",
           "#ab63fa",
           "#FFA15A",
           "#19d3f3",
           "#FF6692",
           "#B6E880",
           "#FF97FF",
           "#FECB52"
          ],
          "font": {
           "color": "#2a3f5f"
          },
          "geo": {
           "bgcolor": "white",
           "lakecolor": "white",
           "landcolor": "white",
           "showlakes": true,
           "showland": true,
           "subunitcolor": "#C8D4E3"
          },
          "hoverlabel": {
           "align": "left"
          },
          "hovermode": "closest",
          "mapbox": {
           "style": "light"
          },
          "paper_bgcolor": "white",
          "plot_bgcolor": "white",
          "polar": {
           "angularaxis": {
            "gridcolor": "#EBF0F8",
            "linecolor": "#EBF0F8",
            "ticks": ""
           },
           "bgcolor": "white",
           "radialaxis": {
            "gridcolor": "#EBF0F8",
            "linecolor": "#EBF0F8",
            "ticks": ""
           }
          },
          "scene": {
           "xaxis": {
            "backgroundcolor": "white",
            "gridcolor": "#DFE8F3",
            "gridwidth": 2,
            "linecolor": "#EBF0F8",
            "showbackground": true,
            "ticks": "",
            "zerolinecolor": "#EBF0F8"
           },
           "yaxis": {
            "backgroundcolor": "white",
            "gridcolor": "#DFE8F3",
            "gridwidth": 2,
            "linecolor": "#EBF0F8",
            "showbackground": true,
            "ticks": "",
            "zerolinecolor": "#EBF0F8"
           },
           "zaxis": {
            "backgroundcolor": "white",
            "gridcolor": "#DFE8F3",
            "gridwidth": 2,
            "linecolor": "#EBF0F8",
            "showbackground": true,
            "ticks": "",
            "zerolinecolor": "#EBF0F8"
           }
          },
          "shapedefaults": {
           "line": {
            "color": "#2a3f5f"
           }
          },
          "ternary": {
           "aaxis": {
            "gridcolor": "#DFE8F3",
            "linecolor": "#A2B1C6",
            "ticks": ""
           },
           "baxis": {
            "gridcolor": "#DFE8F3",
            "linecolor": "#A2B1C6",
            "ticks": ""
           },
           "bgcolor": "white",
           "caxis": {
            "gridcolor": "#DFE8F3",
            "linecolor": "#A2B1C6",
            "ticks": ""
           }
          },
          "title": {
           "x": 0.05
          },
          "xaxis": {
           "automargin": true,
           "gridcolor": "#EBF0F8",
           "linecolor": "#EBF0F8",
           "ticks": "",
           "title": {
            "standoff": 15
           },
           "zerolinecolor": "#EBF0F8",
           "zerolinewidth": 2
          },
          "yaxis": {
           "automargin": true,
           "gridcolor": "#EBF0F8",
           "linecolor": "#EBF0F8",
           "ticks": "",
           "title": {
            "standoff": 15
           },
           "zerolinecolor": "#EBF0F8",
           "zerolinewidth": 2
          }
         }
        },
        "title": {
         "text": "AAPL Technical Indicators"
        },
        "xaxis": {
         "anchor": "y",
         "domain": [
          0,
          1
         ],
         "matches": "x8",
         "rangeselector": {
          "bgcolor": "black",
          "buttons": [
           {
            "count": 7,
            "label": "1w",
            "step": "day",
            "stepmode": "backward"
           },
           {
            "count": 1,
            "label": "1m",
            "step": "month",
            "stepmode": "backward"
           },
           {
            "count": 3,
            "label": "3m",
            "step": "month",
            "stepmode": "backward"
           },
           {
            "count": 6,
            "label": "6m",
            "step": "month",
            "stepmode": "backward"
           },
           {
            "count": 1,
            "label": "YTD",
            "step": "year",
            "stepmode": "todate"
           },
           {
            "step": "all"
           }
          ],
          "font": {
           "color": "white"
          }
         },
         "rangeslider": {
          "visible": false
         },
         "showticklabels": false,
         "type": "date"
        },
        "xaxis2": {
         "anchor": "y2",
         "domain": [
          0,
          1
         ],
         "matches": "x8",
         "showticklabels": false
        },
        "xaxis3": {
         "anchor": "y3",
         "domain": [
          0,
          1
         ],
         "matches": "x8",
         "showticklabels": false
        },
        "xaxis4": {
         "anchor": "y4",
         "domain": [
          0,
          1
         ],
         "matches": "x8",
         "showticklabels": false
        },
        "xaxis5": {
         "anchor": "y5",
         "domain": [
          0,
          1
         ],
         "matches": "x8",
         "showticklabels": false
        },
        "xaxis6": {
         "anchor": "y6",
         "domain": [
          0,
          1
         ],
         "matches": "x8",
         "showticklabels": false
        },
        "xaxis7": {
         "anchor": "y7",
         "domain": [
          0,
          1
         ],
         "matches": "x8",
         "showticklabels": false
        },
        "xaxis8": {
         "anchor": "y8",
         "domain": [
          0,
          1
         ]
        },
        "yaxis": {
         "anchor": "x",
         "domain": [
          0.7630000000000001,
          1
         ]
        },
        "yaxis2": {
         "anchor": "x2",
         "domain": [
          0.6540000000000001,
          0.7330000000000001
         ]
        },
        "yaxis3": {
         "anchor": "x3",
         "domain": [
          0.545,
          0.6240000000000001
         ]
        },
        "yaxis4": {
         "anchor": "x4",
         "domain": [
          0.43600000000000005,
          0.5150000000000001
         ]
        },
        "yaxis5": {
         "anchor": "x5",
         "domain": [
          0.32700000000000007,
          0.4060000000000001
         ]
        },
        "yaxis6": {
         "anchor": "x6",
         "domain": [
          0.21800000000000003,
          0.29700000000000004
         ]
        },
        "yaxis7": {
         "anchor": "x7",
         "domain": [
          0.10900000000000001,
          0.18800000000000003
         ]
        },
        "yaxis8": {
         "anchor": "x8",
         "domain": [
          0,
          0.07900000000000001
         ]
        }
       }
      }
     },
     "metadata": {},
     "output_type": "display_data"
    }
   ],
   "source": [
    "# Setup figure with 8 rows (example: candlestick + 7 indicator rows)\n",
    "fig = make_subplots(\n",
    "    rows=8, cols=1,\n",
    "    shared_xaxes=True,\n",
    "    vertical_spacing=0.03,\n",
    "    row_heights=[0.3] + [0.1]*7,\n",
    "    specs=[[{\"type\": \"candlestick\"}]] + [[{\"type\": \"xy\"}]]*7\n",
    ")\n",
    "\n",
    "fig.update_layout(\n",
    "    title=\"AAPL Technical Indicators\",\n",
    "    template=\"plotly_white\",\n",
    "    height=800,\n",
    "    xaxis=dict(\n",
    "        rangeselector=dict(\n",
    "            buttons=list([\n",
    "                dict(count=7, label=\"1w\", step=\"day\", stepmode=\"backward\"),\n",
    "                dict(count=1, label=\"1m\", step=\"month\", stepmode=\"backward\"),\n",
    "                dict(count=3, label=\"3m\", step=\"month\", stepmode=\"backward\"),\n",
    "                dict(count=6, label=\"6m\", step=\"month\", stepmode=\"backward\"),\n",
    "                dict(count=1, label=\"YTD\", step=\"year\", stepmode=\"todate\"),\n",
    "                dict(step=\"all\")\n",
    "            ]),\n",
    "            bgcolor=\"black\",\n",
    "            font=dict(color='white')\n",
    "        ),\n",
    "        rangeslider=dict(visible=False),\n",
    "        type=\"date\"\n",
    "    )\n",
    ")\n",
    "\n",
    "fig.show()"
   ]
  }
 ],
 "metadata": {
  "kernelspec": {
   "display_name": "venv",
   "language": "python",
   "name": "python3"
  },
  "language_info": {
   "codemirror_mode": {
    "name": "ipython",
    "version": 3
   },
   "file_extension": ".py",
   "mimetype": "text/x-python",
   "name": "python",
   "nbconvert_exporter": "python",
   "pygments_lexer": "ipython3",
   "version": "3.12.3"
  }
 },
 "nbformat": 4,
 "nbformat_minor": 5
}
