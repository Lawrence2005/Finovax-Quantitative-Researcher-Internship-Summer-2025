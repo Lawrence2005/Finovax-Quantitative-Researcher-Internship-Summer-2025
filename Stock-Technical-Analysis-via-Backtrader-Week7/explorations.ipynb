{
 "cells": [
  {
   "cell_type": "markdown",
   "id": "893d290b",
   "metadata": {},
   "source": [
    "## 👨🏻‍💻 Stock Technical Analysis Framework"
   ]
  },
  {
   "cell_type": "markdown",
   "id": "9a1f4aad",
   "metadata": {},
   "source": [
    "### 📥 Setups"
   ]
  },
  {
   "cell_type": "markdown",
   "id": "1fc94bbe",
   "metadata": {},
   "source": [
    "Installation and Import of required packages"
   ]
  },
  {
   "cell_type": "code",
   "execution_count": 2,
   "id": "48df3295",
   "metadata": {},
   "outputs": [],
   "source": [
    "# !pip install -r requirements.txt"
   ]
  },
  {
   "cell_type": "code",
   "execution_count": 3,
   "id": "e4ff9961",
   "metadata": {},
   "outputs": [],
   "source": [
    "import yfinance as yf\n",
    "\n",
    "import pandas as pd"
   ]
  },
  {
   "cell_type": "markdown",
   "id": "3ea7615e",
   "metadata": {},
   "source": [
    "Initialization of Analysis Parameters"
   ]
  },
  {
   "cell_type": "code",
   "execution_count": 4,
   "id": "04db567e",
   "metadata": {},
   "outputs": [],
   "source": [
    "TICKER: str = 'AAPL'\n",
    "\n",
    "START_DATE: str = '2019-01-01'\n",
    "END_DATE: str = '2025-07-25'"
   ]
  },
  {
   "cell_type": "markdown",
   "id": "58e9121b",
   "metadata": {},
   "source": [
    "### 🏗️ Data Acquisition"
   ]
  },
  {
   "cell_type": "markdown",
   "id": "b1602a5b",
   "metadata": {},
   "source": [
    "Function for fetching stock OHCLV data"
   ]
  },
  {
   "cell_type": "code",
   "execution_count": 5,
   "id": "a425522e",
   "metadata": {},
   "outputs": [],
   "source": [
    "def fetch_price_data(ticker: str, start: str = START_DATE, end: str = END_DATE) -> pd.DataFrame:\n",
    "    \"\"\"\n",
    "    \n",
    "    \"\"\"\n",
    "    \n",
    "    data = yf.download(ticker, start=start, end=end, auto_adjust=True)\n",
    "    data.columns = ['Close', 'High', 'Low', 'Open', 'Volume']\n",
    "\n",
    "    return data"
   ]
  },
  {
   "cell_type": "markdown",
   "id": "cfc18d91",
   "metadata": {},
   "source": [
    "The indicators will be split into 4 catgories, volume, volatility, momentum, and trend. The list of specific indicators in each is as follows.\n",
    "- Volume: \n",
    "| Provider            |  Pros                                                                                      | Cons                                                                                       |\n",
    "|:-------------------:|:------------------------------------------------------------------------------------------:|:------------------------------------------------------------------------------------------:|\n",
    "| Alpha Vantage       | Awesome all-around -- Almost complete data, Great documentation, Simple Python SDK; NASDAQ licensed | Restrained service at free plan -- Low rate limits, No adjusted close price, No realtime US market data |\n",
    "- Volatility:\n",
    "- Momentum:\n",
    "- Trend:"
   ]
  },
  {
   "cell_type": "code",
   "execution_count": null,
   "id": "9fb8248e",
   "metadata": {},
   "outputs": [],
   "source": []
  }
 ],
 "metadata": {
  "kernelspec": {
   "display_name": "venv",
   "language": "python",
   "name": "python3"
  },
  "language_info": {
   "codemirror_mode": {
    "name": "ipython",
    "version": 3
   },
   "file_extension": ".py",
   "mimetype": "text/x-python",
   "name": "python",
   "nbconvert_exporter": "python",
   "pygments_lexer": "ipython3",
   "version": "3.12.3"
  }
 },
 "nbformat": 4,
 "nbformat_minor": 5
}
