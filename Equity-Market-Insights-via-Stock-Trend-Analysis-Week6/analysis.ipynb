{
 "cells": [
  {
   "cell_type": "markdown",
   "id": "d80d701f",
   "metadata": {},
   "source": []
  },
  {
   "cell_type": "markdown",
   "id": "d7938b18",
   "metadata": {},
   "source": [
    "### 📥 Setups"
   ]
  },
  {
   "cell_type": "markdown",
   "id": "4ac9892f",
   "metadata": {},
   "source": [
    "Installation and Import of required packages"
   ]
  },
  {
   "cell_type": "code",
   "execution_count": 70,
   "id": "77248981",
   "metadata": {},
   "outputs": [],
   "source": [
    "# !pip install -r requirements.txt"
   ]
  },
  {
   "cell_type": "code",
   "execution_count": 71,
   "id": "f4fa4f65",
   "metadata": {},
   "outputs": [],
   "source": [
    "import yfinance as yf\n",
    "import pandas as pd\n",
    "import numpy as np"
   ]
  },
  {
   "cell_type": "markdown",
   "id": "c1bae97f",
   "metadata": {},
   "source": [
    "Initialization of Analysis Parameters"
   ]
  },
  {
   "cell_type": "code",
   "execution_count": 72,
   "id": "16c9157c",
   "metadata": {},
   "outputs": [],
   "source": [
    "TICKERS: list[str] = [\"AAPL\", \"MSFT\", \"AMZN\", \"TSLA\", \"NVDA\", \"JNJ\", \"JPM\", \"XOM\", \"PG\", \"WMT\", \"AMT\"]\n",
    "START_DATE: str = \"2022-01-01\"\n",
    "END_DATE: str = \"2025-07-18\""
   ]
  },
  {
   "cell_type": "markdown",
   "id": "418487c7",
   "metadata": {},
   "source": [
    "### 🏗️ Data Acquisition"
   ]
  },
  {
   "cell_type": "markdown",
   "id": "af50f6a8",
   "metadata": {},
   "source": [
    "Function for Fetching Daily Price Data"
   ]
  },
  {
   "cell_type": "code",
   "execution_count": null,
   "id": "6e82cfe8",
   "metadata": {},
   "outputs": [],
   "source": [
    "def get_stock_data(tickers: list[str], start: str, end: str):\n",
    "    \"\"\"\n",
    "    Fetches financial data from Yahoo Finance API for given tickers and date range.\n",
    "    \n",
    "    Parameters:\n",
    "        tickers (list[str]): U.S. equity ticker symbols\n",
    "        start_date (str): Start date in 'YYYY-MM-DD' format\n",
    "        end_date (str): End date in 'YYYY-MM-DD' format\n",
    "\n",
    "    Returns:\n",
    "        pd.DataFrame: DataFrame with date-indexed adjusted closing price data\n",
    "    \"\"\"\n",
    "    \n",
    "    data = {}\n",
    "\n",
    "    for ticker in tickers:\n",
    "        try:\n",
    "            # Fetch data from Yahoo Finance and select relevant columns\n",
    "            df = yf.download(ticker, start=start, end=end, auto_adjust=True)[['Close', 'Volume']]\n",
    "            df.columns = ['Close', 'Volume']\n",
    "            \n",
    "            if not df.empty:\n",
    "                data[ticker] = df\n",
    "            else:\n",
    "                print(f\"No data found for {ticker} in the specified date range.\")\n",
    "        except Exception as e:\n",
    "            print(f\"Error fetching data for {ticker}: {e}\")\n",
    "\n",
    "    return data"
   ]
  }
 ],
 "metadata": {
  "kernelspec": {
   "display_name": "venv",
   "language": "python",
   "name": "python3"
  },
  "language_info": {
   "codemirror_mode": {
    "name": "ipython",
    "version": 3
   },
   "file_extension": ".py",
   "mimetype": "text/x-python",
   "name": "python",
   "nbconvert_exporter": "python",
   "pygments_lexer": "ipython3",
   "version": "3.12.3"
  }
 },
 "nbformat": 4,
 "nbformat_minor": 5
}
