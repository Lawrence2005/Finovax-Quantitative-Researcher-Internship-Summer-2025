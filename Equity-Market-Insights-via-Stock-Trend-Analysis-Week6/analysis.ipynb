{
 "cells": [
  {
   "cell_type": "markdown",
   "id": "d80d701f",
   "metadata": {},
   "source": []
  },
  {
   "cell_type": "markdown",
   "id": "d7938b18",
   "metadata": {},
   "source": [
    "### 📥 Setups"
   ]
  },
  {
   "cell_type": "markdown",
   "id": "4ac9892f",
   "metadata": {},
   "source": [
    "Installation and Import of required packages"
   ]
  },
  {
   "cell_type": "code",
   "execution_count": 836,
   "id": "77248981",
   "metadata": {},
   "outputs": [],
   "source": [
    "# !pip install -r requirements.txt"
   ]
  },
  {
   "cell_type": "code",
   "execution_count": 837,
   "id": "f4fa4f65",
   "metadata": {},
   "outputs": [],
   "source": [
    "import yfinance as yf\n",
    "import pandas as pd\n",
    "import numpy as np"
   ]
  },
  {
   "cell_type": "markdown",
   "id": "c1bae97f",
   "metadata": {},
   "source": [
    "Initialization of Analysis Parameters"
   ]
  },
  {
   "cell_type": "code",
   "execution_count": 838,
   "id": "16c9157c",
   "metadata": {},
   "outputs": [],
   "source": [
    "TICKERS: list[str] = [\"AAPL\"] # , \"MSFT\", \"AMZN\", \"TSLA\", \"NVDA\", \"JNJ\", \"JPM\", \"XOM\", \"PG\", \"WMT\", \"AMT\"\n",
    "START_DATE: str = \"2022-01-01\"\n",
    "END_DATE: str = \"2025-07-18\""
   ]
  },
  {
   "cell_type": "markdown",
   "id": "418487c7",
   "metadata": {},
   "source": [
    "### 🏗️ Data Acquisition"
   ]
  },
  {
   "cell_type": "markdown",
   "id": "af50f6a8",
   "metadata": {},
   "source": [
    "Function for Fetching Daily Price Data"
   ]
  },
  {
   "cell_type": "code",
   "execution_count": 839,
   "id": "6e82cfe8",
   "metadata": {},
   "outputs": [],
   "source": [
    "def get_stock_data(tickers: list[str], start: str, end: str):\n",
    "    \"\"\"\n",
    "    Fetches financial data from Yahoo Finance API for given tickers and date range.\n",
    "    \n",
    "    Parameters:\n",
    "        tickers (list[str]): U.S. equity ticker symbols\n",
    "        start_date (str): Start date in 'YYYY-MM-DD' format\n",
    "        end_date (str): End date in 'YYYY-MM-DD' format\n",
    "\n",
    "    Returns:\n",
    "        pd.DataFrame: DataFrame with date-indexed adjusted closing price data\n",
    "    \"\"\"\n",
    "    \n",
    "    data = {}\n",
    "\n",
    "    for ticker in tickers:\n",
    "        try:\n",
    "            # Fetch data from Yahoo Finance and select relevant columns\n",
    "            df = yf.download(ticker, start=start, end=end, auto_adjust=True)[['Close', 'Volume']]\n",
    "            df.columns = ['Close', 'Volume']\n",
    "            \n",
    "            if not df.empty:\n",
    "                data[ticker] = df\n",
    "            else:\n",
    "                print(f\"No data found for {ticker} in the specified date range.\")\n",
    "        except Exception as e:\n",
    "            print(f\"Error fetching data for {ticker}: {e}\")\n",
    "\n",
    "    return data"
   ]
  },
  {
   "cell_type": "markdown",
   "id": "a2f9e63d",
   "metadata": {},
   "source": [
    "### 🧹 Data Cleaning and Preparation"
   ]
  },
  {
   "cell_type": "markdown",
   "id": "009c5824",
   "metadata": {},
   "source": [
    "Function for Filling Missing Values and Normalizing Values"
   ]
  },
  {
   "cell_type": "code",
   "execution_count": 840,
   "id": "ecd59304",
   "metadata": {},
   "outputs": [],
   "source": [
    "def clean_data(data: dict) -> dict:\n",
    "    \"\"\"\n",
    "    Cleans and prepares the stock data for analysis.\n",
    "    \n",
    "    Parameters:\n",
    "        data (dict): Dictionary of DataFrames indexed by ticker symbols\n",
    "\n",
    "    Returns:\n",
    "        dict: Dictionary of DataFrames with cleaned and normalized data\n",
    "    \"\"\"\n",
    "\n",
    "    cleaned_data = {}\n",
    "\n",
    "    for ticker, df in data.items():\n",
    "        # Replace zeros in 'Close' with NaN\n",
    "        df.loc[df['Close'] == 0, 'Close'] = np.nan\n",
    "\n",
    "        # Forward and backward fill missing values\n",
    "        df = df.ffill().bfill()\n",
    "        \n",
    "        # Normalize the 'Close' prices to a range of 0 to 1\n",
    "        df['Close_Normalized'] = (df['Close'] - df['Close'].min()) / (df['Close'].max() - df['Close'].min())\n",
    "\n",
    "        df = df[['Close', 'Close_Normalized', 'Volume']] # Change column order\n",
    "        \n",
    "        cleaned_data[ticker] = df\n",
    "\n",
    "    return cleaned_data"
   ]
  },
  {
   "cell_type": "markdown",
   "id": "b0ab7ce6",
   "metadata": {},
   "source": [
    "### 📊 Data Analysis"
   ]
  },
  {
   "cell_type": "markdown",
   "id": "15e6455b",
   "metadata": {},
   "source": []
  },
  {
   "cell_type": "code",
   "execution_count": 841,
   "id": "2192640a",
   "metadata": {},
   "outputs": [],
   "source": [
    "def calculate_ma_return_and_volatility(data: dict, ma_window: int, vol_window: int | None = None) -> dict:\n",
    "    \"\"\"\n",
    "    Calculates the moving average and the volatility for each stock's closing price.\n",
    "    \n",
    "    Parameters:\n",
    "        data (dict): Dictionary of DataFrames indexed by ticker symbols\n",
    "        ma_window (int): Window size for moving average\n",
    "        vol_window (int | None): Window size for rolling volatility calculation (Default to None, which is only non-rolling)\n",
    "\n",
    "    Returns:\n",
    "        dict: Dictionary of DataFrames with volatility added\n",
    "    \"\"\"\n",
    "    \n",
    "    final_data = {}\n",
    "\n",
    "    for ticker, df in data.items():\n",
    "        df['Return'] = df['Close'].pct_change()  # simple % return\n",
    "\n",
    "        df[f'MA_{ma_window}'] = df['Close'].rolling(window=ma_window).mean()\n",
    "\n",
    "        if vol_window is not None:\n",
    "            df[f'Volatility_{vol_window}'] = df['Return'].rolling(window=vol_window).std()\n",
    "            \n",
    "            df = df.iloc[max(ma_window, vol_window):]  # Ensure enough data for both MA and Volatility calculations\n",
    "        else:\n",
    "            df = df.iloc[ma_window:]\n",
    "\n",
    "        final_data[ticker] = (df, df['Return'].std())\n",
    "\n",
    "    return final_data"
   ]
  },
  {
   "cell_type": "code",
   "execution_count": 842,
   "id": "74551a2f",
   "metadata": {},
   "outputs": [
    {
     "name": "stderr",
     "output_type": "stream",
     "text": [
      "[*********************100%***********************]  1 of 1 completed\n"
     ]
    }
   ],
   "source": [
    "t = get_stock_data(TICKERS, START_DATE, END_DATE)\n",
    "c_t = clean_data(t)\n",
    "ma_vol_data = calculate_ma_return_and_volatility(c_t, ma_window=20, vol_window=20)"
   ]
  }
 ],
 "metadata": {
  "kernelspec": {
   "display_name": "venv",
   "language": "python",
   "name": "python3"
  },
  "language_info": {
   "codemirror_mode": {
    "name": "ipython",
    "version": 3
   },
   "file_extension": ".py",
   "mimetype": "text/x-python",
   "name": "python",
   "nbconvert_exporter": "python",
   "pygments_lexer": "ipython3",
   "version": "3.12.3"
  }
 },
 "nbformat": 4,
 "nbformat_minor": 5
}
