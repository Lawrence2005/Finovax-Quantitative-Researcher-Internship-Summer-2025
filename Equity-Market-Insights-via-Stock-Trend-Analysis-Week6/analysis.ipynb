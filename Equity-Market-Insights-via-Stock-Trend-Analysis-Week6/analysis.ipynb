{
 "cells": [
  {
   "cell_type": "markdown",
   "id": "d80d701f",
   "metadata": {},
   "source": [
    "## 💸 Stock Trend Analysis Framework"
   ]
  },
  {
   "cell_type": "markdown",
   "id": "d7938b18",
   "metadata": {},
   "source": [
    "### 📥 Setups"
   ]
  },
  {
   "cell_type": "markdown",
   "id": "4ac9892f",
   "metadata": {},
   "source": [
    "Installation and Import of required packages"
   ]
  },
  {
   "cell_type": "code",
   "execution_count": 1147,
   "id": "77248981",
   "metadata": {},
   "outputs": [],
   "source": [
    "# !pip install -r requirements.txt"
   ]
  },
  {
   "cell_type": "code",
   "execution_count": null,
   "id": "f4fa4f65",
   "metadata": {},
   "outputs": [],
   "source": [
    "import yfinance as yf\n",
    "import pandas as pd\n",
    "import numpy as np\n",
    "import plotly.graph_objects as go"
   ]
  },
  {
   "cell_type": "markdown",
   "id": "c1bae97f",
   "metadata": {},
   "source": [
    "Initialization of Analysis Parameters"
   ]
  },
  {
   "cell_type": "code",
   "execution_count": 1149,
   "id": "16c9157c",
   "metadata": {},
   "outputs": [],
   "source": [
    "TICKERS: list[str] = [\"AAPL\", \"MSFT\", \"AMZN\", \"TSLA\", \"NVDA\", \"JNJ\", \"JPM\", \"XOM\", \"PG\", \"WMT\", \"AMT\"]\n",
    "START_DATE: str = \"2022-01-01\"\n",
    "END_DATE: str = \"2025-07-18\""
   ]
  },
  {
   "cell_type": "markdown",
   "id": "418487c7",
   "metadata": {},
   "source": [
    "### 🏗️ Data Acquisition"
   ]
  },
  {
   "cell_type": "markdown",
   "id": "af50f6a8",
   "metadata": {},
   "source": [
    "Function for Fetching Daily Price Data"
   ]
  },
  {
   "cell_type": "code",
   "execution_count": 1150,
   "id": "6e82cfe8",
   "metadata": {},
   "outputs": [],
   "source": [
    "def get_stock_data(tickers: list[str], start: str, end: str):\n",
    "    \"\"\"\n",
    "    Fetches financial data from Yahoo Finance API for given tickers and date range.\n",
    "    \n",
    "    Parameters:\n",
    "        tickers (list[str]): U.S. equity ticker symbols\n",
    "        start_date (str): Start date in 'YYYY-MM-DD' format\n",
    "        end_date (str): End date in 'YYYY-MM-DD' format\n",
    "\n",
    "    Returns:\n",
    "        dict[str, pd.DataFrame]: Dictionary of DataFrames with date-indexed adjusted closing price data\n",
    "    \"\"\"\n",
    "    \n",
    "    data = {}\n",
    "\n",
    "    for ticker in tickers:\n",
    "        try:\n",
    "            # Fetch data from Yahoo Finance and select relevant columns\n",
    "            df = yf.download(ticker, start=start, end=end, auto_adjust=True)[['Close', 'Volume']]\n",
    "            df.columns = ['Close', 'Volume']\n",
    "            \n",
    "            if not df.empty:\n",
    "                data[ticker] = df\n",
    "            else:\n",
    "                print(f\"No data found for {ticker} in the specified date range.\")\n",
    "        except Exception as e:\n",
    "            print(f\"Error fetching data for {ticker}: {e}\")\n",
    "\n",
    "    return data"
   ]
  },
  {
   "cell_type": "markdown",
   "id": "a2f9e63d",
   "metadata": {},
   "source": [
    "### 🧹 Data Cleaning and Preparation"
   ]
  },
  {
   "cell_type": "markdown",
   "id": "009c5824",
   "metadata": {},
   "source": [
    "Function for Filling Missing Values and Normalizing Values"
   ]
  },
  {
   "cell_type": "code",
   "execution_count": 1151,
   "id": "ecd59304",
   "metadata": {},
   "outputs": [],
   "source": [
    "def clean_data(data: dict[str, pd.DataFrame]) -> dict:\n",
    "    \"\"\"\n",
    "    Cleans and prepares the stock data for analysis.\n",
    "    \n",
    "    Parameters:\n",
    "        data (dict[str, pd.DataFrame]): Dictionary of DataFrames indexed by ticker symbols\n",
    "\n",
    "    Returns:\n",
    "        dict[str, pd.DataFrame]: Dictionary of DataFrames with cleaned and normalized data\n",
    "    \"\"\"\n",
    "\n",
    "    cleaned_data = {}\n",
    "\n",
    "    for ticker, df in data.items():\n",
    "        # Replace zeros in 'Close' with NaN\n",
    "        df.loc[df['Close'] == 0, 'Close'] = np.nan\n",
    "\n",
    "        # Forward and backward fill missing values\n",
    "        df = df.ffill()\n",
    "        \n",
    "        # Normalize the 'Close' prices to a range of 0 to 1\n",
    "        df['Close_Normalized'] = (df['Close'] - df['Close'].min()) / (df['Close'].max() - df['Close'].min())\n",
    "\n",
    "        df = df[['Close', 'Close_Normalized', 'Volume']] # Change column order\n",
    "        \n",
    "        cleaned_data[ticker] = df\n",
    "\n",
    "    return cleaned_data"
   ]
  },
  {
   "cell_type": "markdown",
   "id": "b0ab7ce6",
   "metadata": {},
   "source": [
    "### 📊 Data Analysis"
   ]
  },
  {
   "cell_type": "markdown",
   "id": "15e6455b",
   "metadata": {},
   "source": [
    "Functions for Calculating Return, Moving Average, and Volatility"
   ]
  },
  {
   "cell_type": "code",
   "execution_count": 1152,
   "id": "9d5ecc47",
   "metadata": {},
   "outputs": [],
   "source": [
    "def calculate_return(df: pd.DataFrame) -> pd.DataFrame:\n",
    "    \"\"\"\n",
    "    Calculates the daily return of the stock based on the 'Close' price.\n",
    "\n",
    "    Parameters:\n",
    "        df (pd.DataFrame): DataFrame containing stock data with 'Close' prices\n",
    "\n",
    "    Returns:\n",
    "        pd.DataFrame: DataFrame with an additional 'Return' column\n",
    "    \"\"\"\n",
    "    \n",
    "    df['Return'] = df['Close'].pct_change()\n",
    "    return df\n",
    "\n",
    "def calculate_moving_average(df: pd.DataFrame, window: int) -> pd.DataFrame:\n",
    "    \"\"\"\n",
    "    Calculates the moving average of the 'Close' price over a specified window.\n",
    "\n",
    "    Parameters:\n",
    "        df (pd.DataFrame): DataFrame containing stock data with 'Close' prices\n",
    "        window (int): The number of periods over which to calculate the moving average\n",
    "    \n",
    "    Returns:\n",
    "        pd.DataFrame: DataFrame with an additional column for the moving average\n",
    "    \"\"\"\n",
    "\n",
    "    df['Moving_Avg'] = df['Close'].rolling(window=window).mean()\n",
    "    return df\n",
    "\n",
    "def calculate_volatility(df: pd.DataFrame, window: int) -> pd.DataFrame:\n",
    "    \"\"\"\n",
    "    Calculates the volatility of the stock based on the 'Return' column over a specified window.\n",
    "\n",
    "    Parameters:\n",
    "        df (pd.DataFrame): DataFrame containing stock data with 'Return' column\n",
    "        window (int): The number of periods over which to calculate the volatility\n",
    "    \n",
    "    Returns:\n",
    "        pd.DataFrame: DataFrame with an additional column for the volatility\n",
    "    \"\"\"\n",
    "\n",
    "    df['Rolling_Vol'] = df['Return'].rolling(window=window).std()\n",
    "    return df"
   ]
  },
  {
   "cell_type": "markdown",
   "id": "5f26d62d",
   "metadata": {},
   "source": [
    "Function for Calculating all the Measures"
   ]
  },
  {
   "cell_type": "code",
   "execution_count": 1153,
   "id": "2192640a",
   "metadata": {},
   "outputs": [],
   "source": [
    "def calculate_measures(data: dict[str, pd.DataFrame], ma_window: int = 50, vol_window: int = 20) -> dict:\n",
    "    \"\"\"\n",
    "    Calculates the return, moving average and the volatility for each stock's closing price.\n",
    "    \n",
    "    Parameters:\n",
    "        data (dict[str, pd.DataFrame]): Dictionary of DataFrames indexed by ticker symbols\n",
    "        ma_window (int): Window size for moving average\n",
    "        vol_window (int): Window size for rolling volatility calculation\n",
    "\n",
    "    Returns:\n",
    "        dict[str, dict[str, pd.DataFrame | float]]: Dictionary of DataFrames with volatility added\n",
    "    \"\"\"\n",
    "    \n",
    "    final_data = {}\n",
    "\n",
    "    for ticker, df in data.items():\n",
    "        df = calculate_return(df)\n",
    "        df = calculate_moving_average(df, ma_window)\n",
    "        df = calculate_volatility(df, vol_window)\n",
    "\n",
    "        final_data[ticker] = {\n",
    "            'data': df,\n",
    "            'overall_vol': float(df['Return'].std())\n",
    "        }\n",
    "\n",
    "    return final_data"
   ]
  },
  {
   "cell_type": "markdown",
   "id": "696a143b",
   "metadata": {},
   "source": [
    "Functions for Calculating RSI and MACD"
   ]
  },
  {
   "cell_type": "code",
   "execution_count": 1154,
   "id": "dbbad8fd",
   "metadata": {},
   "outputs": [],
   "source": [
    "def calculate_RSI(df: pd.DataFrame, window: int) -> pd.DataFrame:\n",
    "    \"\"\"\n",
    "    Calculates the Relative Strength Index (RSI) for a given DataFrame.\n",
    "\n",
    "    Parameters:\n",
    "        df (pd.DataFrame): DataFrame containing stock data with 'Close' prices\n",
    "        period (int): The number of periods to use for RSI calculation\n",
    "\n",
    "    Returns:\n",
    "        pd.DataFrame: DataFrame with an additional 'RSI' column\n",
    "    \"\"\"\n",
    "\n",
    "    df = df.copy()\n",
    "\n",
    "    avg_gain = (df['Return'].where(df['Return'] > 0, 0)).rolling(window=window).mean()\n",
    "    avg_loss = (-df['Return'].where(df['Return'] < 0, 0)).rolling(window=window).mean()\n",
    "    \n",
    "    rs = avg_gain / avg_loss\n",
    "    df['RSI'] = 100 - (100 / (1 + rs))\n",
    "    \n",
    "    return df"
   ]
  },
  {
   "cell_type": "code",
   "execution_count": 1155,
   "id": "2ec5b8c3",
   "metadata": {},
   "outputs": [],
   "source": [
    "def calculate_MACD(df: pd.DataFrame, short_window: int, long_window: int, signal_window: int) -> pd.DataFrame:\n",
    "    \"\"\"\n",
    "    Calculates the Moving Average Convergence Divergence (MACD) for a given DataFrame.\n",
    "\n",
    "    Parameters:\n",
    "        df (pd.DataFrame): DataFrame containing stock data with 'Close' prices\n",
    "        short_window (int): Short-term EMA window\n",
    "        long_window (int): Long-term EMA window\n",
    "        signal_window (int): Signal line EMA window\n",
    "\n",
    "    Returns:\n",
    "        pd.DataFrame: DataFrame with additional EMA, MACD, MACD Signal, and MACD Histogram columns\n",
    "    \"\"\"\n",
    "\n",
    "    df = df.copy()\n",
    "\n",
    "    df['EMA_short'] = df['Close'].ewm(span=short_window, adjust=False).mean()\n",
    "    df['EMA_long'] = df['Close'].ewm(span=long_window, adjust=False).mean()\n",
    "\n",
    "    df['MACD'] = df['EMA_short'] - df['EMA_long']\n",
    "    df['MACD_Signal'] = df['MACD'].ewm(span=signal_window, adjust=False).mean()\n",
    "    df['MACD_Hist'] = df['MACD'] - df['MACD_Signal']\n",
    "    \n",
    "    return df"
   ]
  },
  {
   "cell_type": "markdown",
   "id": "25052475",
   "metadata": {},
   "source": [
    "Function for Calculating Both Indicators"
   ]
  },
  {
   "cell_type": "code",
   "execution_count": 1156,
   "id": "4f7768ff",
   "metadata": {},
   "outputs": [],
   "source": [
    "def calculate_indicators(data: dict[str, dict[str, pd.DataFrame | float]], rsi_window: int = 14, short_window: int = 12, long_window: int = 26, signal_window: int = 9):\n",
    "    \"\"\"\n",
    "    Calculates the RSI and MACD for given DataFrames.\n",
    "\n",
    "    Parameters:\n",
    "        data (dict[str, dict[str, pd.DataFrame | float]]): Dictionary of DataFrames indexed by ticker symbols\n",
    "        rsi_period (int): The number of periods to use for RSI calculation (Default to 14)\n",
    "        short_window (int): Short-term EMA window (Default to 12)\n",
    "        long_window (int): Long-term EMA window (Default to 26)\n",
    "        signal_window (int): Signal line EMA window (Default to 9)\n",
    "\n",
    "    Returns:\n",
    "        dict[str, dict[str, pd.DataFrame | float]]: Dictionary of DataFrames with EMA, MACD, MACD Signal, and MACD Histogram added\n",
    "    \"\"\"\n",
    "\n",
    "    final_data = {}\n",
    "\n",
    "    for ticker, d in data.items():\n",
    "        df = d['data']\n",
    "\n",
    "        df = calculate_RSI(df, rsi_window)\n",
    "        df = calculate_MACD(df, short_window, long_window, signal_window)\n",
    "\n",
    "        final_data[ticker] = {\n",
    "            'data': df,\n",
    "            'overall_vol': d['overall_vol']\n",
    "        }\n",
    "\n",
    "    return final_data"
   ]
  },
  {
   "cell_type": "markdown",
   "id": "81286315",
   "metadata": {},
   "source": [
    "Function for Filtering Missing Values after all Calculations"
   ]
  },
  {
   "cell_type": "code",
   "execution_count": null,
   "id": "db482918",
   "metadata": {},
   "outputs": [],
   "source": [
    "def filter_data(data: dict[str, dict[str, pd.DataFrame | float]]):\n",
    "    '''\n",
    "    Filters out rows of missing values for given dataFrames\n",
    "\n",
    "    Parameters:\n",
    "        data (dict[str, dict[str, pd.DataFrame | float]]): Dictionary of DataFrames indexed by ticker symbols\n",
    "\n",
    "    Returns:\n",
    "        dict[str, dict[str, pd.DataFrame | float]]: Dictionary of DataFrames without NaNs\n",
    "    '''\n",
    "\n",
    "    final_data = {}\n",
    "\n",
    "    for ticker, d in data.items():\n",
    "        df = d['data']\n",
    "\n",
    "        df = df.dropna(subset = ['Return', 'Moving_Avg', 'Rolling_Vol', 'RSI'])\n",
    "\n",
    "        final_data[ticker] = {\n",
    "            'data': df,\n",
    "            'overall_vol': d['overall_vol']\n",
    "        }\n",
    "    return final_data"
   ]
  },
  {
   "cell_type": "markdown",
   "id": "f5503981",
   "metadata": {},
   "source": [
    "### 📈 Visualization"
   ]
  },
  {
   "cell_type": "markdown",
   "id": "a135e866",
   "metadata": {},
   "source": []
  },
  {
   "cell_type": "code",
   "execution_count": null,
   "id": "24951200",
   "metadata": {},
   "outputs": [],
   "source": []
  }
 ],
 "metadata": {
  "kernelspec": {
   "display_name": "venv",
   "language": "python",
   "name": "python3"
  },
  "language_info": {
   "codemirror_mode": {
    "name": "ipython",
    "version": 3
   },
   "file_extension": ".py",
   "mimetype": "text/x-python",
   "name": "python",
   "nbconvert_exporter": "python",
   "pygments_lexer": "ipython3",
   "version": "3.12.3"
  }
 },
 "nbformat": 4,
 "nbformat_minor": 5
}
