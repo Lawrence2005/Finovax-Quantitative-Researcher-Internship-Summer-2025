{
 "cells": [
  {
   "cell_type": "markdown",
   "id": "d80d701f",
   "metadata": {},
   "source": []
  },
  {
   "cell_type": "markdown",
   "id": "d7938b18",
   "metadata": {},
   "source": [
    "### 📥 Setups"
   ]
  },
  {
   "cell_type": "markdown",
   "id": "4ac9892f",
   "metadata": {},
   "source": [
    "Installation and Import of required packages"
   ]
  },
  {
   "cell_type": "code",
   "execution_count": 774,
   "id": "77248981",
   "metadata": {},
   "outputs": [],
   "source": [
    "# !pip install -r requirements.txt"
   ]
  },
  {
   "cell_type": "code",
   "execution_count": 775,
   "id": "f4fa4f65",
   "metadata": {},
   "outputs": [],
   "source": [
    "import yfinance as yf\n",
    "import pandas as pd\n",
    "import numpy as np"
   ]
  },
  {
   "cell_type": "markdown",
   "id": "c1bae97f",
   "metadata": {},
   "source": [
    "Initialization of Analysis Parameters"
   ]
  },
  {
   "cell_type": "code",
   "execution_count": 776,
   "id": "16c9157c",
   "metadata": {},
   "outputs": [],
   "source": [
    "TICKERS: list[str] = [\"AAPL\"] # , \"MSFT\", \"AMZN\", \"TSLA\", \"NVDA\", \"JNJ\", \"JPM\", \"XOM\", \"PG\", \"WMT\", \"AMT\"\n",
    "START_DATE: str = \"2022-01-01\"\n",
    "END_DATE: str = \"2025-07-18\""
   ]
  },
  {
   "cell_type": "markdown",
   "id": "418487c7",
   "metadata": {},
   "source": [
    "### 🏗️ Data Acquisition"
   ]
  },
  {
   "cell_type": "markdown",
   "id": "af50f6a8",
   "metadata": {},
   "source": [
    "Function for Fetching Daily Price Data"
   ]
  },
  {
   "cell_type": "code",
   "execution_count": 777,
   "id": "6e82cfe8",
   "metadata": {},
   "outputs": [],
   "source": [
    "def get_stock_data(tickers: list[str], start: str, end: str):\n",
    "    \"\"\"\n",
    "    Fetches financial data from Yahoo Finance API for given tickers and date range.\n",
    "    \n",
    "    Parameters:\n",
    "        tickers (list[str]): U.S. equity ticker symbols\n",
    "        start_date (str): Start date in 'YYYY-MM-DD' format\n",
    "        end_date (str): End date in 'YYYY-MM-DD' format\n",
    "\n",
    "    Returns:\n",
    "        pd.DataFrame: DataFrame with date-indexed adjusted closing price data\n",
    "    \"\"\"\n",
    "    \n",
    "    data = {}\n",
    "\n",
    "    for ticker in tickers:\n",
    "        try:\n",
    "            # Fetch data from Yahoo Finance and select relevant columns\n",
    "            df = yf.download(ticker, start=start, end=end, auto_adjust=True)[['Close', 'Volume']]\n",
    "            df.columns = ['Close', 'Volume']\n",
    "            \n",
    "            if not df.empty:\n",
    "                data[ticker] = df\n",
    "            else:\n",
    "                print(f\"No data found for {ticker} in the specified date range.\")\n",
    "        except Exception as e:\n",
    "            print(f\"Error fetching data for {ticker}: {e}\")\n",
    "\n",
    "    return data"
   ]
  },
  {
   "cell_type": "markdown",
   "id": "a2f9e63d",
   "metadata": {},
   "source": [
    "### 🧹 Data Cleaning and Preparation"
   ]
  },
  {
   "cell_type": "markdown",
   "id": "009c5824",
   "metadata": {},
   "source": [
    "Function for Filling Missing Values and Normalizing Values"
   ]
  },
  {
   "cell_type": "code",
   "execution_count": 778,
   "id": "ecd59304",
   "metadata": {},
   "outputs": [],
   "source": [
    "def clean_data(data: dict) -> dict:\n",
    "    \"\"\"\n",
    "    Cleans and prepares the stock data for analysis.\n",
    "    \n",
    "    Parameters:\n",
    "        data (dict): Dictionary of DataFrames indexed by ticker symbols\n",
    "\n",
    "    Returns:\n",
    "        dict: Dictionary of DataFrames with cleaned and normalized data\n",
    "    \"\"\"\n",
    "\n",
    "    cleaned_data = {}\n",
    "\n",
    "    for ticker, df in data.items():\n",
    "        # Replace zeros in 'Close' with NaN\n",
    "        df.loc[df['Close'] == 0, 'Close'] = np.nan\n",
    "\n",
    "        # Forward and backward fill missing values\n",
    "        df = df.ffill().bfill()\n",
    "        \n",
    "        # Normalize the 'Close' prices to a range of 0 to 1\n",
    "        df['Normalized_Close'] = (df['Close'] - df['Close'].min()) / (df['Close'].max() - df['Close'].min())\n",
    "\n",
    "        df = df[['Close', 'Close_Normalized', 'Volume']] # Change column order\n",
    "        \n",
    "        cleaned_data[ticker] = df\n",
    "\n",
    "    return cleaned_data"
   ]
  },
  {
   "cell_type": "markdown",
   "id": "b0ab7ce6",
   "metadata": {},
   "source": [
    "### 📊 Data Analysis"
   ]
  },
  {
   "cell_type": "markdown",
   "id": "15e6455b",
   "metadata": {},
   "source": []
  },
  {
   "cell_type": "code",
   "execution_count": 779,
   "id": "a4565890",
   "metadata": {},
   "outputs": [],
   "source": [
    "def calculate_moving_average(data: dict, window: int) -> dict:\n",
    "    \"\"\"\n",
    "    Calculates the moving average for each stock's closing price.\n",
    "    \n",
    "    Parameters:\n",
    "        data (dict): Dictionary of DataFrames indexed by ticker symbols\n",
    "        window (int): Window size for moving average\n",
    "\n",
    "    Returns:\n",
    "        dict: Dictionary of DataFrames with moving averages added\n",
    "    \"\"\"\n",
    "    \n",
    "    ma_data = {}\n",
    "\n",
    "    for ticker, df in data.items():\n",
    "        df[f'MA_{window}'] = df['Close'].rolling(window=window).mean()\n",
    "\n",
    "        ma_data[ticker] = df.dropna(subset=[f'MA_{window}'])\n",
    "\n",
    "    return ma_data"
   ]
  },
  {
   "cell_type": "code",
   "execution_count": 780,
   "id": "2192640a",
   "metadata": {},
   "outputs": [],
   "source": [
    "def calculate_return_and_volatility(data: dict, window: int | None = None) -> dict:\n",
    "    \"\"\"\n",
    "    Calculates the volatility for each stock's closing price.\n",
    "    \n",
    "    Parameters:\n",
    "        data (dict): Dictionary of DataFrames indexed by ticker symbols\n",
    "        window (int | None): Window size for rolling volatility calculation (Default to None, which is only non-rolling)\n",
    "\n",
    "    Returns:\n",
    "        dict: Dictionary of DataFrames with volatility added\n",
    "    \"\"\"\n",
    "    \n",
    "    volatility_data = {}\n",
    "\n",
    "    for ticker, df in data.items():\n",
    "        df['Return'] = df['Close'].pct_change()  # simple % return\n",
    "        if window is not None:\n",
    "            df[f'Volatility_{window}'] = df['Return'].rolling(window=window).std()\n",
    "\n",
    "        df = df.dropna(subset=['Return']) if window is None else df.dropna(subset=[f'Volatility_{window}'])\n",
    "\n",
    "        volatility_data[ticker] = (df, df['Return'].std())\n",
    "\n",
    "    return volatility_data"
   ]
  }
 ],
 "metadata": {
  "kernelspec": {
   "display_name": "venv",
   "language": "python",
   "name": "python3"
  },
  "language_info": {
   "codemirror_mode": {
    "name": "ipython",
    "version": 3
   },
   "file_extension": ".py",
   "mimetype": "text/x-python",
   "name": "python",
   "nbconvert_exporter": "python",
   "pygments_lexer": "ipython3",
   "version": "3.12.3"
  }
 },
 "nbformat": 4,
 "nbformat_minor": 5
}
